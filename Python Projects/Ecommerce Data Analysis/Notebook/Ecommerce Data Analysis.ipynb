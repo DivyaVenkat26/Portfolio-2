{
 "cells": [
  {
   "cell_type": "code",
   "execution_count": 3,
   "id": "9de2b3f6-648d-4b65-a1ec-11631d676b96",
   "metadata": {},
   "outputs": [
    {
     "name": "stdout",
     "output_type": "stream",
     "text": [
      "Processing customers.csv\n",
      "NaN values before replacement:\n",
      "customer_id                 0\n",
      "customer_unique_id          0\n",
      "customer_zip_code_prefix    0\n",
      "customer_city               0\n",
      "customer_state              0\n",
      "dtype: int64\n",
      "\n",
      "Processing orders.csv\n",
      "NaN values before replacement:\n",
      "order_id                            0\n",
      "customer_id                         0\n",
      "order_status                        0\n",
      "order_purchase_timestamp            0\n",
      "order_approved_at                 160\n",
      "order_delivered_carrier_date     1783\n",
      "order_delivered_customer_date    2965\n",
      "order_estimated_delivery_date       0\n",
      "dtype: int64\n",
      "\n",
      "Processing sellers.csv\n",
      "NaN values before replacement:\n",
      "seller_id                 0\n",
      "seller_zip_code_prefix    0\n",
      "seller_city               0\n",
      "seller_state              0\n",
      "dtype: int64\n",
      "\n",
      "Processing products.csv\n",
      "NaN values before replacement:\n",
      "product_id                      0\n",
      "product_category              610\n",
      "product_name_length           610\n",
      "product_description_length    610\n",
      "product_photos_qty            610\n",
      "product_weight_g                2\n",
      "product_length_cm               2\n",
      "product_height_cm               2\n",
      "product_width_cm                2\n",
      "dtype: int64\n",
      "\n",
      "Processing geolocation.csv\n",
      "NaN values before replacement:\n",
      "geolocation_zip_code_prefix    0\n",
      "geolocation_lat                0\n",
      "geolocation_lng                0\n",
      "geolocation_city               0\n",
      "geolocation_state              0\n",
      "dtype: int64\n",
      "\n",
      "Processing payments.csv\n",
      "NaN values before replacement:\n",
      "order_id                0\n",
      "payment_sequential      0\n",
      "payment_type            0\n",
      "payment_installments    0\n",
      "payment_value           0\n",
      "dtype: int64\n",
      "\n",
      "Processing order_items.csv\n",
      "NaN values before replacement:\n",
      "order_id               0\n",
      "order_item_id          0\n",
      "product_id             0\n",
      "seller_id              0\n",
      "shipping_limit_date    0\n",
      "price                  0\n",
      "freight_value          0\n",
      "dtype: int64\n",
      "\n"
     ]
    }
   ],
   "source": [
    "import pandas as pd\n",
    "import mysql.connector\n",
    "import os\n",
    "\n",
    "# List of CSV files and their corresponding table names\n",
    "csv_files = [\n",
    "    ('customers.csv', 'customers'),\n",
    "    ('orders.csv', 'orders'),\n",
    "    ('sellers.csv', 'sellers'),\n",
    "    ('products.csv', 'products'),\n",
    "    ('geolocation.csv', 'geolocation'),\n",
    "    ('payments.csv', 'payments'),\n",
    "    ('order_items.csv','order_items')\n",
    "    # Added payments.csv for specific handling\n",
    "]\n",
    "\n",
    "# Connect to the MySQL database\n",
    "conn = mysql.connector.connect(\n",
    "    host='localhost',\n",
    "    user='root',\n",
    "    password='divi96',\n",
    "    database='ecommerce'\n",
    ")\n",
    "cursor = conn.cursor()\n",
    "\n",
    "# Folder containing the CSV files\n",
    "folder_path = r'C:\\Users\\ASUS\\Downloads\\Ecommerce'\n",
    "\n",
    "def get_sql_type(dtype):\n",
    "    if pd.api.types.is_integer_dtype(dtype):\n",
    "        return 'INT'\n",
    "    elif pd.api.types.is_float_dtype(dtype):\n",
    "        return 'FLOAT'\n",
    "    elif pd.api.types.is_bool_dtype(dtype):\n",
    "        return 'BOOLEAN'\n",
    "    elif pd.api.types.is_datetime64_any_dtype(dtype):\n",
    "        return 'DATETIME'\n",
    "    else:\n",
    "        return 'TEXT'\n",
    "\n",
    "for csv_file, table_name in csv_files:\n",
    "    file_path = os.path.join(folder_path, csv_file)\n",
    "    \n",
    "    # Read the CSV file into a pandas DataFrame\n",
    "    df = pd.read_csv(file_path)\n",
    "    \n",
    "    # Replace NaN with None to handle SQL NULL\n",
    "    df = df.where(pd.notnull(df), None)\n",
    "    \n",
    "    # Debugging: Check for NaN values\n",
    "    print(f\"Processing {csv_file}\")\n",
    "    print(f\"NaN values before replacement:\\n{df.isnull().sum()}\\n\")\n",
    "\n",
    "    # Clean column names\n",
    "    df.columns = [col.replace(' ', '').replace('-', '').replace('.', '_') for col in df.columns]\n",
    "\n",
    "    # Generate the CREATE TABLE statement with appropriate data types\n",
    "    columns = ', '.join([f'{col} {get_sql_type(df[col].dtype)}' for col in df.columns])\n",
    "    create_table_query = f'CREATE TABLE IF NOT EXISTS {table_name} ({columns})'\n",
    "    cursor.execute(create_table_query)\n",
    "\n",
    "    # Insert DataFrame data into the MySQL table\n",
    "    for _, row in df.iterrows():\n",
    "        # Convert row to tuple and handle NaN/None explicitly\n",
    "        values = tuple(None if pd.isna(x) else x for x in row)\n",
    "        sql = f\"INSERT INTO {table_name} ({', '.join(['' + col + '' for col in df.columns])}) VALUES ({', '.join(['%s'] * len(row))})\"\n",
    "        cursor.execute(sql, values)\n",
    "\n",
    "    # Commit the transaction for the current CSV file\n",
    "    conn.commit()\n",
    "\n",
    "# Close the connection\n",
    "conn.close()"
   ]
  },
  {
   "cell_type": "code",
   "execution_count": 11,
   "id": "6767eb72-c340-47a7-9947-62d760b4c1cc",
   "metadata": {},
   "outputs": [],
   "source": [
    "import numpy as np\n",
    "import pandas as pd\n",
    "import matplotlib.pyplot as plt\n",
    "import seaborn as sns\n",
    "import mysql.connector\n",
    "db  =  mysql.connector.connect(host = 'localhost',\n",
    "                             username = 'root',\n",
    "                             password = 'divi96',\n",
    "                             database = \"ecommerce\")\n",
    "cur = db.cursor()\n",
    "                             \n",
    "                                        "
   ]
  },
  {
   "cell_type": "markdown",
   "id": "3b080973-e464-4e55-941b-612e46086539",
   "metadata": {},
   "source": [
    "# List all unique cities where customers are located"
   ]
  },
  {
   "cell_type": "code",
   "execution_count": 13,
   "id": "6280744e-8584-4c82-9839-c620a4920fd9",
   "metadata": {},
   "outputs": [
    {
     "data": {
      "text/html": [
       "<div>\n",
       "<style scoped>\n",
       "    .dataframe tbody tr th:only-of-type {\n",
       "        vertical-align: middle;\n",
       "    }\n",
       "\n",
       "    .dataframe tbody tr th {\n",
       "        vertical-align: top;\n",
       "    }\n",
       "\n",
       "    .dataframe thead th {\n",
       "        text-align: right;\n",
       "    }\n",
       "</style>\n",
       "<table border=\"1\" class=\"dataframe\">\n",
       "  <thead>\n",
       "    <tr style=\"text-align: right;\">\n",
       "      <th></th>\n",
       "      <th>0</th>\n",
       "    </tr>\n",
       "  </thead>\n",
       "  <tbody>\n",
       "    <tr>\n",
       "      <th>0</th>\n",
       "      <td>franca</td>\n",
       "    </tr>\n",
       "    <tr>\n",
       "      <th>1</th>\n",
       "      <td>sao bernardo do campo</td>\n",
       "    </tr>\n",
       "    <tr>\n",
       "      <th>2</th>\n",
       "      <td>sao paulo</td>\n",
       "    </tr>\n",
       "    <tr>\n",
       "      <th>3</th>\n",
       "      <td>mogi das cruzes</td>\n",
       "    </tr>\n",
       "    <tr>\n",
       "      <th>4</th>\n",
       "      <td>campinas</td>\n",
       "    </tr>\n",
       "  </tbody>\n",
       "</table>\n",
       "</div>"
      ],
      "text/plain": [
       "                       0\n",
       "0                 franca\n",
       "1  sao bernardo do campo\n",
       "2              sao paulo\n",
       "3        mogi das cruzes\n",
       "4               campinas"
      ]
     },
     "execution_count": 13,
     "metadata": {},
     "output_type": "execute_result"
    }
   ],
   "source": [
    "query = \"\"\" select distinct customer_city from customers\"\"\"\n",
    "cur.execute(query)\n",
    "data = cur.fetchall()\n",
    "df = pd.DataFrame(data)\n",
    "df.head()"
   ]
  },
  {
   "cell_type": "markdown",
   "id": "a9c09e59-83c6-42ed-953d-e30fa2ccca34",
   "metadata": {},
   "source": [
    "# Count the number of orders placed in 2017"
   ]
  },
  {
   "cell_type": "code",
   "execution_count": 7,
   "id": "497dbeca-6b88-43ab-abe9-ce8cf0479420",
   "metadata": {},
   "outputs": [
    {
     "data": {
      "text/plain": [
       "('Total orders placed in 2017: ', 45101)"
      ]
     },
     "execution_count": 7,
     "metadata": {},
     "output_type": "execute_result"
    }
   ],
   "source": [
    "query = \"\"\" select count(order_id) as Total_Orders from orders where year(order_purchase_timestamp) = 2017\"\"\"\n",
    "cur.execute(query)\n",
    "data = cur.fetchall()\n",
    "\"Total orders placed in 2017: \",data[0][0] "
   ]
  },
  {
   "cell_type": "markdown",
   "id": "fd66eaa6-dbb9-470a-afad-80f6c55e6f6e",
   "metadata": {},
   "source": [
    "# Find the total sales per category"
   ]
  },
  {
   "cell_type": "code",
   "execution_count": 9,
   "id": "880341f2-c7f8-44fd-a252-1a453b823024",
   "metadata": {},
   "outputs": [
    {
     "data": {
      "text/html": [
       "<div>\n",
       "<style scoped>\n",
       "    .dataframe tbody tr th:only-of-type {\n",
       "        vertical-align: middle;\n",
       "    }\n",
       "\n",
       "    .dataframe tbody tr th {\n",
       "        vertical-align: top;\n",
       "    }\n",
       "\n",
       "    .dataframe thead th {\n",
       "        text-align: right;\n",
       "    }\n",
       "</style>\n",
       "<table border=\"1\" class=\"dataframe\">\n",
       "  <thead>\n",
       "    <tr style=\"text-align: right;\">\n",
       "      <th></th>\n",
       "      <th>Category</th>\n",
       "      <th>Total_Sales</th>\n",
       "    </tr>\n",
       "  </thead>\n",
       "  <tbody>\n",
       "    <tr>\n",
       "      <th>0</th>\n",
       "      <td>perfumery</td>\n",
       "      <td>4053909.28</td>\n",
       "    </tr>\n",
       "    <tr>\n",
       "      <th>1</th>\n",
       "      <td>Furniture Decoration</td>\n",
       "      <td>11441411.12</td>\n",
       "    </tr>\n",
       "    <tr>\n",
       "      <th>2</th>\n",
       "      <td>telephony</td>\n",
       "      <td>3895056.40</td>\n",
       "    </tr>\n",
       "    <tr>\n",
       "      <th>3</th>\n",
       "      <td>bed table bath</td>\n",
       "      <td>13700429.36</td>\n",
       "    </tr>\n",
       "    <tr>\n",
       "      <th>4</th>\n",
       "      <td>automotive</td>\n",
       "      <td>6818354.64</td>\n",
       "    </tr>\n",
       "    <tr>\n",
       "      <th>...</th>\n",
       "      <td>...</td>\n",
       "      <td>...</td>\n",
       "    </tr>\n",
       "    <tr>\n",
       "      <th>69</th>\n",
       "      <td>cds music dvds</td>\n",
       "      <td>9595.44</td>\n",
       "    </tr>\n",
       "    <tr>\n",
       "      <th>70</th>\n",
       "      <td>La Cuisine</td>\n",
       "      <td>23308.24</td>\n",
       "    </tr>\n",
       "    <tr>\n",
       "      <th>71</th>\n",
       "      <td>Fashion Children's Clothing</td>\n",
       "      <td>6285.36</td>\n",
       "    </tr>\n",
       "    <tr>\n",
       "      <th>72</th>\n",
       "      <td>PC Gamer</td>\n",
       "      <td>17395.44</td>\n",
       "    </tr>\n",
       "    <tr>\n",
       "      <th>73</th>\n",
       "      <td>insurance and services</td>\n",
       "      <td>2596.08</td>\n",
       "    </tr>\n",
       "  </tbody>\n",
       "</table>\n",
       "<p>74 rows × 2 columns</p>\n",
       "</div>"
      ],
      "text/plain": [
       "                       Category  Total_Sales\n",
       "0                     perfumery   4053909.28\n",
       "1          Furniture Decoration  11441411.12\n",
       "2                     telephony   3895056.40\n",
       "3                bed table bath  13700429.36\n",
       "4                    automotive   6818354.64\n",
       "..                          ...          ...\n",
       "69               cds music dvds      9595.44\n",
       "70                   La Cuisine     23308.24\n",
       "71  Fashion Children's Clothing      6285.36\n",
       "72                     PC Gamer     17395.44\n",
       "73       insurance and services      2596.08\n",
       "\n",
       "[74 rows x 2 columns]"
      ]
     },
     "execution_count": 9,
     "metadata": {},
     "output_type": "execute_result"
    }
   ],
   "source": [
    "query = \"\"\" select products.product_category,sum(payments.payment_value) from products join order_items on \n",
    "products.product_id = order_items.product_id join payments on payments.order_id = order_items.order_id \n",
    "group by product_category \"\"\"\n",
    "cur.execute(query)\n",
    "data = cur.fetchall()\n",
    "df = pd.DataFrame(data,columns = ['Category','Total_Sales'])\n",
    "df"
   ]
  },
  {
   "cell_type": "markdown",
   "id": "be3d6f39-0f0c-41b8-9de5-5eeaf2048e8b",
   "metadata": {},
   "source": [
    "# Calculate the percentage of orders that were paid in installments"
   ]
  },
  {
   "cell_type": "code",
   "execution_count": 13,
   "id": "91d56125-39d7-4cef-a4f8-b93b1d4a31d5",
   "metadata": {},
   "outputs": [
    {
     "data": {
      "text/plain": [
       "('Percentage of orders paid in installments: ', Decimal('49.4176'))"
      ]
     },
     "execution_count": 13,
     "metadata": {},
     "output_type": "execute_result"
    }
   ],
   "source": [
    "query = \"\"\" select (sum(case when payment_installments > 1 then 1 else 0 end)/count(*) * 100 )from payments \"\"\"\n",
    "cur.execute(query)\n",
    "data = cur.fetchall()\n",
    "\"Percentage of orders paid in installments: \",data[0][0] "
   ]
  },
  {
   "cell_type": "markdown",
   "id": "5865fe79-4f80-43f9-b4a3-001c7b7e2820",
   "metadata": {},
   "source": [
    "# Count the number of customers from each state"
   ]
  },
  {
   "cell_type": "code",
   "execution_count": 8,
   "id": "ee6fde75-54ce-47b9-9645-2de6f11a9849",
   "metadata": {},
   "outputs": [
    {
     "data": {
      "image/png": "[encoded data removed]",
      "text/plain": [
       "<Figure size 1000x300 with 1 Axes>"
      ]
     },
     "metadata": {},
     "output_type": "display_data"
    }
   ],
   "source": [
    "query = \"\"\" select customer_State , count(customer_id) as Number_of_customers from customers group by customer_state \"\"\"\n",
    "cur.execute(query)\n",
    "data = cur.fetchall()\n",
    "df = pd.DataFrame(data,columns = [\"State\",\"Customer_Count\"])\n",
    "df = df.sort_values(by = \"Customer_Count\",ascending = False)\n",
    "plt.figure(figsize = (10,3))\n",
    "plt.bar(df[\"State\"],df[\"Customer_Count\"])\n",
    "plt.xlabel(\"State\")\n",
    "plt.xticks(rotation = 90)\n",
    "plt.ylabel(\"Customer_Count\")\n",
    "plt.title(\"Count of Customers by State\")\n",
    "plt.show()"
   ]
  },
  {
   "cell_type": "markdown",
   "id": "b0c30c70-9b5d-43fe-8088-07f3f5e10a27",
   "metadata": {},
   "source": [
    "# Calculate the number of orders per month in 2018"
   ]
  },
  {
   "cell_type": "code",
   "execution_count": 121,
   "id": "9d51407a-c0bf-4445-96fc-e302ff514219",
   "metadata": {},
   "outputs": [
    {
     "data": {
      "image/png": "[encoded data removed]",
      "text/plain": [
       "<Figure size 1000x500 with 1 Axes>"
      ]
     },
     "metadata": {},
     "output_type": "display_data"
    }
   ],
   "source": [
    "query = \"\"\" select monthname(order_purchase_timestamp),count(order_id) as Total_Orders from orders where year(order_purchase_timestamp) = 2017 \n",
    "group by monthname(order_purchase_timestamp)\"\"\"\n",
    "cur.execute(query)\n",
    "data = cur.fetchall()\n",
    "df = pd.DataFrame(data,columns = ['Months','Order_Count'])\n",
    "df = df.sort_values(by = 'Order_Count',ascending = False)\n",
    "o = [\"January\",\"February\",\"March\",\"April\",\"May\",\"June\",\"July\",\"August\",\"September\",\"October\",\"November\",\"December\"]\n",
    "plt.figure(figsize = (10,5))\n",
    "ax = sns.barplot(x = \"Months\", y = \"Order_Count\", data = df,order = o)\n",
    "plt.xticks(rotation = 45)\n",
    "ax.bar_label(ax.containers[0])\n",
    "plt.show()"
   ]
  },
  {
   "cell_type": "markdown",
   "id": "8e01e424-416e-42c3-bed6-d49869134a44",
   "metadata": {},
   "source": [
    "## From the above graph we can see that November month has highest number of orders and january month has least number of orders"
   ]
  },
  {
   "cell_type": "markdown",
   "id": "d1cacfef-3f26-401f-930a-b0f4d9e696de",
   "metadata": {},
   "source": [
    "# Find the average number of products per order, grouped by customer city"
   ]
  },
  {
   "cell_type": "code",
   "execution_count": 5,
   "id": "6852a229-27af-4c1c-8b81-41522a9dd363",
   "metadata": {},
   "outputs": [
    {
     "data": {
      "text/html": [
       "<div>\n",
       "<style scoped>\n",
       "    .dataframe tbody tr th:only-of-type {\n",
       "        vertical-align: middle;\n",
       "    }\n",
       "\n",
       "    .dataframe tbody tr th {\n",
       "        vertical-align: top;\n",
       "    }\n",
       "\n",
       "    .dataframe thead th {\n",
       "        text-align: right;\n",
       "    }\n",
       "</style>\n",
       "<table border=\"1\" class=\"dataframe\">\n",
       "  <thead>\n",
       "    <tr style=\"text-align: right;\">\n",
       "      <th></th>\n",
       "      <th>Customer_City</th>\n",
       "      <th>Average_Products_Per_Order</th>\n",
       "    </tr>\n",
       "  </thead>\n",
       "  <tbody>\n",
       "    <tr>\n",
       "      <th>0</th>\n",
       "      <td>padre carvalho</td>\n",
       "      <td>42.00</td>\n",
       "    </tr>\n",
       "    <tr>\n",
       "      <th>1</th>\n",
       "      <td>celso ramos</td>\n",
       "      <td>39.00</td>\n",
       "    </tr>\n",
       "    <tr>\n",
       "      <th>2</th>\n",
       "      <td>datas</td>\n",
       "      <td>36.00</td>\n",
       "    </tr>\n",
       "    <tr>\n",
       "      <th>3</th>\n",
       "      <td>candido godoi</td>\n",
       "      <td>36.00</td>\n",
       "    </tr>\n",
       "    <tr>\n",
       "      <th>4</th>\n",
       "      <td>matias olimpio</td>\n",
       "      <td>30.00</td>\n",
       "    </tr>\n",
       "    <tr>\n",
       "      <th>...</th>\n",
       "      <td>...</td>\n",
       "      <td>...</td>\n",
       "    </tr>\n",
       "    <tr>\n",
       "      <th>4105</th>\n",
       "      <td>tuiuti</td>\n",
       "      <td>6.00</td>\n",
       "    </tr>\n",
       "    <tr>\n",
       "      <th>4106</th>\n",
       "      <td>tibau do sul</td>\n",
       "      <td>6.00</td>\n",
       "    </tr>\n",
       "    <tr>\n",
       "      <th>4107</th>\n",
       "      <td>sao mamede</td>\n",
       "      <td>6.00</td>\n",
       "    </tr>\n",
       "    <tr>\n",
       "      <th>4108</th>\n",
       "      <td>sambaiba</td>\n",
       "      <td>6.00</td>\n",
       "    </tr>\n",
       "    <tr>\n",
       "      <th>4109</th>\n",
       "      <td>japaratuba</td>\n",
       "      <td>6.00</td>\n",
       "    </tr>\n",
       "  </tbody>\n",
       "</table>\n",
       "<p>4110 rows × 2 columns</p>\n",
       "</div>"
      ],
      "text/plain": [
       "       Customer_City Average_Products_Per_Order\n",
       "0     padre carvalho                      42.00\n",
       "1        celso ramos                      39.00\n",
       "2              datas                      36.00\n",
       "3      candido godoi                      36.00\n",
       "4     matias olimpio                      30.00\n",
       "...              ...                        ...\n",
       "4105          tuiuti                       6.00\n",
       "4106    tibau do sul                       6.00\n",
       "4107      sao mamede                       6.00\n",
       "4108        sambaiba                       6.00\n",
       "4109      japaratuba                       6.00\n",
       "\n",
       "[4110 rows x 2 columns]"
      ]
     },
     "execution_count": 5,
     "metadata": {},
     "output_type": "execute_result"
    }
   ],
   "source": [
    "query=\"\"\"with count_per_order as (select orders.order_id,orders.customer_id,count(order_items.order_id)\n",
    "as oc\n",
    "from orders join order_items\n",
    "on\n",
    "orders.order_id=order_items.order_id\n",
    "group by orders.order_id,orders.customer_id)\n",
    " \n",
    "select customers.customer_city,round(avg(count_per_order.oc),2) as average_orders\n",
    "from customers join count_per_order\n",
    "on customers.customer_id=count_per_order.customer_id\n",
    "group by customers.customer_city \n",
    "order by average_orders desc\"\"\"\n",
    "cur.execute(query)\n",
    "data = cur.fetchall()\n",
    "df = pd.DataFrame(data,columns = [\"Customer_City\",\"Average_Products_Per_Order\"])\n",
    "df"
   ]
  },
  {
   "cell_type": "markdown",
   "id": "5fc8f47e-df4f-4372-9e93-b072e55a4549",
   "metadata": {},
   "source": [
    "## From the above graph we can see that average products per order based on customer city ranges between 42 to 6"
   ]
  },
  {
   "cell_type": "markdown",
   "id": "ac98abca-5572-42de-97f2-b14c035b453d",
   "metadata": {},
   "source": [
    "# Calculate the percentage of total revenue contributed by each product category"
   ]
  },
  {
   "cell_type": "code",
   "execution_count": 6,
   "id": "06f85658-d496-44b7-94d6-64dd491405d4",
   "metadata": {},
   "outputs": [
    {
     "data": {
      "text/html": [
       "<div>\n",
       "<style scoped>\n",
       "    .dataframe tbody tr th:only-of-type {\n",
       "        vertical-align: middle;\n",
       "    }\n",
       "\n",
       "    .dataframe tbody tr th {\n",
       "        vertical-align: top;\n",
       "    }\n",
       "\n",
       "    .dataframe thead th {\n",
       "        text-align: right;\n",
       "    }\n",
       "</style>\n",
       "<table border=\"1\" class=\"dataframe\">\n",
       "  <thead>\n",
       "    <tr style=\"text-align: right;\">\n",
       "      <th></th>\n",
       "      <th>Product_Category</th>\n",
       "      <th>Revenue_Percentage</th>\n",
       "    </tr>\n",
       "  </thead>\n",
       "  <tbody>\n",
       "    <tr>\n",
       "      <th>0</th>\n",
       "      <td>HEALTH BEAUTY</td>\n",
       "      <td>18.52</td>\n",
       "    </tr>\n",
       "    <tr>\n",
       "      <th>4</th>\n",
       "      <td>Watches present</td>\n",
       "      <td>17.73</td>\n",
       "    </tr>\n",
       "    <tr>\n",
       "      <th>8</th>\n",
       "      <td>bed table bath</td>\n",
       "      <td>15.26</td>\n",
       "    </tr>\n",
       "    <tr>\n",
       "      <th>1</th>\n",
       "      <td>sport leisure</td>\n",
       "      <td>14.54</td>\n",
       "    </tr>\n",
       "    <tr>\n",
       "      <th>3</th>\n",
       "      <td>computer accessories</td>\n",
       "      <td>13.42</td>\n",
       "    </tr>\n",
       "    <tr>\n",
       "      <th>...</th>\n",
       "      <td>...</td>\n",
       "      <td>...</td>\n",
       "    </tr>\n",
       "    <tr>\n",
       "      <th>61</th>\n",
       "      <td>PC Gamer</td>\n",
       "      <td>0.02</td>\n",
       "    </tr>\n",
       "    <tr>\n",
       "      <th>64</th>\n",
       "      <td>Fashion Children's Clothing</td>\n",
       "      <td>0.01</td>\n",
       "    </tr>\n",
       "    <tr>\n",
       "      <th>72</th>\n",
       "      <td>House Comfort 2</td>\n",
       "      <td>0.01</td>\n",
       "    </tr>\n",
       "    <tr>\n",
       "      <th>73</th>\n",
       "      <td>cds music dvds</td>\n",
       "      <td>0.01</td>\n",
       "    </tr>\n",
       "    <tr>\n",
       "      <th>68</th>\n",
       "      <td>insurance and services</td>\n",
       "      <td>0.00</td>\n",
       "    </tr>\n",
       "  </tbody>\n",
       "</table>\n",
       "<p>74 rows × 2 columns</p>\n",
       "</div>"
      ],
      "text/plain": [
       "               Product_Category  Revenue_Percentage\n",
       "0                 HEALTH BEAUTY               18.52\n",
       "4               Watches present               17.73\n",
       "8                bed table bath               15.26\n",
       "1                 sport leisure               14.54\n",
       "3          computer accessories               13.42\n",
       "..                          ...                 ...\n",
       "61                     PC Gamer                0.02\n",
       "64  Fashion Children's Clothing                0.01\n",
       "72              House Comfort 2                0.01\n",
       "73               cds music dvds                0.01\n",
       "68       insurance and services                0.00\n",
       "\n",
       "[74 rows x 2 columns]"
      ]
     },
     "execution_count": 6,
     "metadata": {},
     "output_type": "execute_result"
    }
   ],
   "source": [
    "\n",
    "query = \"\"\"select p.product_category,Round(sum(oi.price)*100/(select sum(price) from order_items),2) as Revenue_Percentage \n",
    "from products p join order_items oi \n",
    "on p.product_id = oi.product_id group by product_category \"\"\"\n",
    "cur.execute(query)\n",
    "data = cur.fetchall()\n",
    "df = pd.DataFrame(data,columns = [\"Product_Category\",\"Revenue_Percentage\"])\n",
    "df = df.sort_values(by = \"Revenue_Percentage\",ascending = False)\n",
    "df\n"
   ]
  },
  {
   "cell_type": "markdown",
   "id": "7c99156d-6dbc-4c8f-8089-968196728398",
   "metadata": {},
   "source": [
    "## From the above graph we can see that Health beauty,Watches Present,Bed Table Bath are the top selling product category"
   ]
  },
  {
   "cell_type": "markdown",
   "id": "ab074a19-4e24-4a5c-94c0-165c551099f3",
   "metadata": {},
   "source": [
    "# Identify the correlation between product price and the number of times a product has been purchased"
   ]
  },
  {
   "cell_type": "code",
   "execution_count": 6,
   "id": "a0a866af-2e90-4b0b-8b0c-1d862344ec2e",
   "metadata": {},
   "outputs": [
    {
     "name": "stdout",
     "output_type": "stream",
     "text": [
      "Correlation between Product Price and number of times a product has been purchased is:\n",
      "                  Price  Purchase_Count\n",
      "Price           1.00000        -0.04422\n",
      "Purchase_Count -0.04422         1.00000\n"
     ]
    }
   ],
   "source": [
    "query = \"\"\"select p.product_category, oi.product_id, oi.price, count(oi.order_id) as order_count\n",
    "from order_items oi\n",
    "join products p on oi.product_id = p.product_id\n",
    "group by p.product_category, oi.product_id, oi.price\n",
    "order by oi.price desc\"\"\"\n",
    "cur.execute(query)\n",
    "data = cur.fetchall()\n",
    "df = pd.DataFrame(data,columns = [\"Product_Category\",\"Product_ID\",\"Price\",\"Purchase_Count\"])\n",
    "correlation = df[[\"Price\",\"Purchase_Count\"]].corr()\n",
    "print(\"Correlation between Product Price and number of times a product has been purchased is:\")\n",
    "print(correlation)\n",
    "\n",
    "\n"
   ]
  },
  {
   "cell_type": "markdown",
   "id": "e3b87d1a-0967-4c89-9a20-e497f83b7e20",
   "metadata": {},
   "source": [
    "# Calculate the total revenue generated by each seller, and rank them by revenue"
   ]
  },
  {
   "cell_type": "code",
   "execution_count": 7,
   "id": "7c04cee0-44fc-4ce8-806c-aee550d5a198",
   "metadata": {},
   "outputs": [
    {
     "data": {
      "text/html": [
       "<div>\n",
       "<style scoped>\n",
       "    .dataframe tbody tr th:only-of-type {\n",
       "        vertical-align: middle;\n",
       "    }\n",
       "\n",
       "    .dataframe tbody tr th {\n",
       "        vertical-align: top;\n",
       "    }\n",
       "\n",
       "    .dataframe thead th {\n",
       "        text-align: right;\n",
       "    }\n",
       "</style>\n",
       "<table border=\"1\" class=\"dataframe\">\n",
       "  <thead>\n",
       "    <tr style=\"text-align: right;\">\n",
       "      <th></th>\n",
       "      <th>Seller_ID</th>\n",
       "      <th>Total_Revenue</th>\n",
       "      <th>Rank</th>\n",
       "    </tr>\n",
       "  </thead>\n",
       "  <tbody>\n",
       "    <tr>\n",
       "      <th>0</th>\n",
       "      <td>4869f7a5dfa277a7dca6462dcf3b52b2</td>\n",
       "      <td>458945.26</td>\n",
       "      <td>1</td>\n",
       "    </tr>\n",
       "    <tr>\n",
       "      <th>1</th>\n",
       "      <td>53243585a1d6dc2643021fd1853d8905</td>\n",
       "      <td>445552.10</td>\n",
       "      <td>2</td>\n",
       "    </tr>\n",
       "    <tr>\n",
       "      <th>2</th>\n",
       "      <td>4a3ca9315b744ce9f8e9374361493884</td>\n",
       "      <td>400945.84</td>\n",
       "      <td>3</td>\n",
       "    </tr>\n",
       "    <tr>\n",
       "      <th>3</th>\n",
       "      <td>fa1c13f2614d7b5c4749cbc52fecda94</td>\n",
       "      <td>388084.06</td>\n",
       "      <td>4</td>\n",
       "    </tr>\n",
       "    <tr>\n",
       "      <th>4</th>\n",
       "      <td>7c67e1448b00f6e969d365cea6b010ab</td>\n",
       "      <td>375847.78</td>\n",
       "      <td>5</td>\n",
       "    </tr>\n",
       "    <tr>\n",
       "      <th>...</th>\n",
       "      <td>...</td>\n",
       "      <td>...</td>\n",
       "      <td>...</td>\n",
       "    </tr>\n",
       "    <tr>\n",
       "      <th>3090</th>\n",
       "      <td>34aefe746cd81b7f3b23253ea28bef39</td>\n",
       "      <td>16.00</td>\n",
       "      <td>2787</td>\n",
       "    </tr>\n",
       "    <tr>\n",
       "      <th>3091</th>\n",
       "      <td>702835e4b785b67a084280efca355756</td>\n",
       "      <td>15.20</td>\n",
       "      <td>2788</td>\n",
       "    </tr>\n",
       "    <tr>\n",
       "      <th>3092</th>\n",
       "      <td>1fa2d3def6adfa70e58c276bb64fe5bb</td>\n",
       "      <td>13.80</td>\n",
       "      <td>2789</td>\n",
       "    </tr>\n",
       "    <tr>\n",
       "      <th>3093</th>\n",
       "      <td>77128dec4bec4878c37ab7d6169d6f26</td>\n",
       "      <td>13.00</td>\n",
       "      <td>2790</td>\n",
       "    </tr>\n",
       "    <tr>\n",
       "      <th>3094</th>\n",
       "      <td>cf6f6bc4df3999b9c6440f124fb2f687</td>\n",
       "      <td>7.00</td>\n",
       "      <td>2791</td>\n",
       "    </tr>\n",
       "  </tbody>\n",
       "</table>\n",
       "<p>3095 rows × 3 columns</p>\n",
       "</div>"
      ],
      "text/plain": [
       "                             Seller_ID  Total_Revenue  Rank\n",
       "0     4869f7a5dfa277a7dca6462dcf3b52b2      458945.26     1\n",
       "1     53243585a1d6dc2643021fd1853d8905      445552.10     2\n",
       "2     4a3ca9315b744ce9f8e9374361493884      400945.84     3\n",
       "3     fa1c13f2614d7b5c4749cbc52fecda94      388084.06     4\n",
       "4     7c67e1448b00f6e969d365cea6b010ab      375847.78     5\n",
       "...                                ...            ...   ...\n",
       "3090  34aefe746cd81b7f3b23253ea28bef39          16.00  2787\n",
       "3091  702835e4b785b67a084280efca355756          15.20  2788\n",
       "3092  1fa2d3def6adfa70e58c276bb64fe5bb          13.80  2789\n",
       "3093  77128dec4bec4878c37ab7d6169d6f26          13.00  2790\n",
       "3094  cf6f6bc4df3999b9c6440f124fb2f687           7.00  2791\n",
       "\n",
       "[3095 rows x 3 columns]"
      ]
     },
     "execution_count": 7,
     "metadata": {},
     "output_type": "execute_result"
    }
   ],
   "source": [
    "query = \"\"\" select seller_id,round(sum(price),2) as Total_Revenue,dense_rank() over (order by sum(price) desc) as Rank_Of_Seller \n",
    "from order_items group by seller_id \"\"\"\n",
    "cur.execute(query)\n",
    "data = cur.fetchall()\n",
    "df = pd.DataFrame(data,columns = [\"Seller_ID\",\"Total_Revenue\",\"Rank\"])\n",
    "df"
   ]
  },
  {
   "cell_type": "markdown",
   "id": "fc2e5785-a341-4485-94df-41ba3ba2e496",
   "metadata": {},
   "source": [
    "# Calculate the moving average of order values for each customer over their order history"
   ]
  },
  {
   "cell_type": "code",
   "execution_count": 10,
   "id": "a7968010-0179-404c-bce7-ba3a9605c7dd",
   "metadata": {},
   "outputs": [
    {
     "data": {
      "text/html": [
       "<div>\n",
       "<style scoped>\n",
       "    .dataframe tbody tr th:only-of-type {\n",
       "        vertical-align: middle;\n",
       "    }\n",
       "\n",
       "    .dataframe tbody tr th {\n",
       "        vertical-align: top;\n",
       "    }\n",
       "\n",
       "    .dataframe thead th {\n",
       "        text-align: right;\n",
       "    }\n",
       "</style>\n",
       "<table border=\"1\" class=\"dataframe\">\n",
       "  <thead>\n",
       "    <tr style=\"text-align: right;\">\n",
       "      <th></th>\n",
       "      <th>Customer_Id</th>\n",
       "      <th>Order_Date</th>\n",
       "      <th>Total_Amount</th>\n",
       "      <th>Moving_Average</th>\n",
       "    </tr>\n",
       "  </thead>\n",
       "  <tbody>\n",
       "    <tr>\n",
       "      <th>0</th>\n",
       "      <td>00012a2ce6f8dcda20d059ce98491703</td>\n",
       "      <td>2017-11-14</td>\n",
       "      <td>688.44</td>\n",
       "      <td>688.44</td>\n",
       "    </tr>\n",
       "    <tr>\n",
       "      <th>1</th>\n",
       "      <td>000161a058600d5901f007fab4c27140</td>\n",
       "      <td>2017-07-16</td>\n",
       "      <td>404.46</td>\n",
       "      <td>404.46</td>\n",
       "    </tr>\n",
       "    <tr>\n",
       "      <th>2</th>\n",
       "      <td>0001fd6190edaaf884bcaf3d49edf079</td>\n",
       "      <td>2017-02-28</td>\n",
       "      <td>1172.52</td>\n",
       "      <td>1172.52</td>\n",
       "    </tr>\n",
       "    <tr>\n",
       "      <th>3</th>\n",
       "      <td>0002414f95344307404f0ace7a26f1d5</td>\n",
       "      <td>2017-08-16</td>\n",
       "      <td>1076.10</td>\n",
       "      <td>1076.10</td>\n",
       "    </tr>\n",
       "    <tr>\n",
       "      <th>4</th>\n",
       "      <td>000379cdec625522490c315e70c7a9fb</td>\n",
       "      <td>2018-04-02</td>\n",
       "      <td>642.06</td>\n",
       "      <td>642.06</td>\n",
       "    </tr>\n",
       "    <tr>\n",
       "      <th>...</th>\n",
       "      <td>...</td>\n",
       "      <td>...</td>\n",
       "      <td>...</td>\n",
       "      <td>...</td>\n",
       "    </tr>\n",
       "    <tr>\n",
       "      <th>99435</th>\n",
       "      <td>fffecc9f79fd8c764f843e9951b11341</td>\n",
       "      <td>2018-03-29</td>\n",
       "      <td>488.16</td>\n",
       "      <td>488.16</td>\n",
       "    </tr>\n",
       "    <tr>\n",
       "      <th>99436</th>\n",
       "      <td>fffeda5b6d849fbd39689bb92087f431</td>\n",
       "      <td>2018-05-22</td>\n",
       "      <td>378.78</td>\n",
       "      <td>378.78</td>\n",
       "    </tr>\n",
       "    <tr>\n",
       "      <th>99437</th>\n",
       "      <td>ffff42319e9b2d713724ae527742af25</td>\n",
       "      <td>2018-06-13</td>\n",
       "      <td>1284.78</td>\n",
       "      <td>1284.78</td>\n",
       "    </tr>\n",
       "    <tr>\n",
       "      <th>99438</th>\n",
       "      <td>ffffa3172527f765de70084a7e53aae8</td>\n",
       "      <td>2017-09-02</td>\n",
       "      <td>273.00</td>\n",
       "      <td>273.00</td>\n",
       "    </tr>\n",
       "    <tr>\n",
       "      <th>99439</th>\n",
       "      <td>ffffe8b65bbe3087b653a978c870db99</td>\n",
       "      <td>2017-09-29</td>\n",
       "      <td>110.22</td>\n",
       "      <td>110.22</td>\n",
       "    </tr>\n",
       "  </tbody>\n",
       "</table>\n",
       "<p>99440 rows × 4 columns</p>\n",
       "</div>"
      ],
      "text/plain": [
       "                            Customer_Id  Order_Date  Total_Amount  \\\n",
       "0      00012a2ce6f8dcda20d059ce98491703  2017-11-14        688.44   \n",
       "1      000161a058600d5901f007fab4c27140  2017-07-16        404.46   \n",
       "2      0001fd6190edaaf884bcaf3d49edf079  2017-02-28       1172.52   \n",
       "3      0002414f95344307404f0ace7a26f1d5  2017-08-16       1076.10   \n",
       "4      000379cdec625522490c315e70c7a9fb  2018-04-02        642.06   \n",
       "...                                 ...         ...           ...   \n",
       "99435  fffecc9f79fd8c764f843e9951b11341  2018-03-29        488.16   \n",
       "99436  fffeda5b6d849fbd39689bb92087f431  2018-05-22        378.78   \n",
       "99437  ffff42319e9b2d713724ae527742af25  2018-06-13       1284.78   \n",
       "99438  ffffa3172527f765de70084a7e53aae8  2017-09-02        273.00   \n",
       "99439  ffffe8b65bbe3087b653a978c870db99  2017-09-29        110.22   \n",
       "\n",
       "       Moving_Average  \n",
       "0              688.44  \n",
       "1              404.46  \n",
       "2             1172.52  \n",
       "3             1076.10  \n",
       "4              642.06  \n",
       "...               ...  \n",
       "99435          488.16  \n",
       "99436          378.78  \n",
       "99437         1284.78  \n",
       "99438          273.00  \n",
       "99439          110.22  \n",
       "\n",
       "[99440 rows x 4 columns]"
      ]
     },
     "execution_count": 10,
     "metadata": {},
     "output_type": "execute_result"
    }
   ],
   "source": [
    "query = \"\"\"select customer_id,order_date,payment,round(avg(payment) over(partition by customer_id order by order_date\n",
    "rows between 2 preceding  and current row),2) as mov_avg from\n",
    "(select o.customer_id,date(min(cast(o.order_purchase_timestamp as datetime))) as order_date,round(sum(p.payment_value),2) as payment \n",
    "from orders o join payments p \n",
    "on o.order_id = p.order_id group by o.customer_id,o.order_id) as a\"\"\"\n",
    "cur.execute(query)\n",
    "data = cur.fetchall()\n",
    "df = pd.DataFrame(data,columns = [\"Customer_Id\",\"Order_Date\",\"Total_Amount\",\"Moving_Average\"])\n",
    "df\n"
   ]
  },
  {
   "cell_type": "markdown",
   "id": "0bb70990-fd46-426d-88e0-ade31d4fed69",
   "metadata": {},
   "source": [
    "# Calculate the cumulative sales per month for each year"
   ]
  },
  {
   "cell_type": "code",
   "execution_count": 35,
   "id": "6744b687-803e-4753-b2e1-63f68654cd8b",
   "metadata": {},
   "outputs": [
    {
     "data": {
      "image/png": "[encoded data removed]",
      "text/plain": [
       "<Figure size 1500x500 with 1 Axes>"
      ]
     },
     "metadata": {},
     "output_type": "display_data"
    }
   ],
   "source": [
    "query = \"\"\"select years,months,payment,round(sum(payment) over (partition by years order by years,month_num),2) as cumulative_sales_per_month from\n",
    "(select year(o.order_purchase_timestamp) as years,month(o.order_purchase_timestamp) as month_num,\n",
    "monthname(o.order_purchase_timestamp) \n",
    "as months,round(sum(p.payment_value),2) as payment \n",
    "from orders o join payments p on o.order_id = p.order_id group by years,month_num,months) as a \"\"\"\n",
    "cur.execute(query)\n",
    "data = cur.fetchall()\n",
    "df = pd.DataFrame(data,columns = [\"Years\",\"Months\",\"Total_Sales\",\"Cumulative_Sales\"])\n",
    "month_order = [\"January\",\"February\",\"March\",\"April\",\"May\",\"June\",\"July\",\"August\",\"September\",\"October\",\"November\",\"December\"]\n",
    "plt.figure(figsize = (15,5))\n",
    "ax = sns.barplot(x = \"Months\", y = \"Cumulative_Sales\", data = df,hue = \"Years\",order = month_order,palette = \"Set1\")\n",
    "import matplotlib.ticker as mtick\n",
    "ax.yaxis.set_major_formatter(mtick.StrMethodFormatter('{x:,.0f}'))\n",
    "plt.legend(title=\"Year\")\n",
    "plt.show()\n",
    "\n"
   ]
  },
  {
   "cell_type": "markdown",
   "id": "5dec9273-00d1-4058-a5f5-4db42ce54ddf",
   "metadata": {},
   "source": [
    "## Based on the chart,Sales grew steadily from 2017 and reached their highest point in 2018"
   ]
  },
  {
   "cell_type": "markdown",
   "id": "f786b98b-3691-43be-a8b9-91ee76fb9b97",
   "metadata": {},
   "source": [
    "# Calculate the year-over-year growth rate of total sales"
   ]
  },
  {
   "cell_type": "code",
   "execution_count": 38,
   "id": "33e0a883-9b83-4661-b28e-156d93f84c39",
   "metadata": {},
   "outputs": [
    {
     "data": {
      "text/html": [
       "<div>\n",
       "<style scoped>\n",
       "    .dataframe tbody tr th:only-of-type {\n",
       "        vertical-align: middle;\n",
       "    }\n",
       "\n",
       "    .dataframe tbody tr th {\n",
       "        vertical-align: top;\n",
       "    }\n",
       "\n",
       "    .dataframe thead th {\n",
       "        text-align: right;\n",
       "    }\n",
       "</style>\n",
       "<table border=\"1\" class=\"dataframe\">\n",
       "  <thead>\n",
       "    <tr style=\"text-align: right;\">\n",
       "      <th></th>\n",
       "      <th>Years</th>\n",
       "      <th>YOY_Growth_Percentage</th>\n",
       "    </tr>\n",
       "  </thead>\n",
       "  <tbody>\n",
       "    <tr>\n",
       "      <th>0</th>\n",
       "      <td>NaN</td>\n",
       "      <td>NaN</td>\n",
       "    </tr>\n",
       "    <tr>\n",
       "      <th>1</th>\n",
       "      <td>2016.0</td>\n",
       "      <td>-99.81</td>\n",
       "    </tr>\n",
       "    <tr>\n",
       "      <th>2</th>\n",
       "      <td>2017.0</td>\n",
       "      <td>12112.70</td>\n",
       "    </tr>\n",
       "    <tr>\n",
       "      <th>3</th>\n",
       "      <td>2018.0</td>\n",
       "      <td>20.00</td>\n",
       "    </tr>\n",
       "  </tbody>\n",
       "</table>\n",
       "</div>"
      ],
      "text/plain": [
       "    Years  YOY_Growth_Percentage\n",
       "0     NaN                    NaN\n",
       "1  2016.0                 -99.81\n",
       "2  2017.0               12112.70\n",
       "3  2018.0                  20.00"
      ]
     },
     "execution_count": 38,
     "metadata": {},
     "output_type": "execute_result"
    }
   ],
   "source": [
    "query = \"\"\" with a as (select year(orders.order_purchase_timestamp) as years,round(sum(payments.payment_value),2) as payment\n",
    "from payments join orders on orders.order_id=payments.order_id group by years order by years)\n",
    "select years, round(((payment-lag(payment,1) over(order by years))/lag(payment,1) over (order by years))*100,2) as yoy_growth_percentage \n",
    "from a \"\"\"\n",
    "cur.execute(query)\n",
    "data = cur.fetchall()\n",
    "df = pd.DataFrame(data,columns = [\"Years\",\"YOY_Growth_Percentage\"])\n",
    "df"
   ]
  },
  {
   "cell_type": "markdown",
   "id": "920764e7-b95e-440f-8c11-2cc31412d01e",
   "metadata": {},
   "source": [
    "# Calculate the retention rate of customers, defined as the percentage of customers who make another purchase within 6 months of their first purchase"
   ]
  },
  {
   "cell_type": "code",
   "execution_count": 43,
   "id": "b7a194da-0a13-474b-9687-751d3a764d75",
   "metadata": {},
   "outputs": [
    {
     "data": {
      "text/plain": [
       "('Retention Rate of Customers is:', None)"
      ]
     },
     "execution_count": 43,
     "metadata": {},
     "output_type": "execute_result"
    }
   ],
   "source": [
    "query = \"\"\" with a as(select customers.customer_id,min(orders.order_purchase_timestamp) first_order\n",
    "from customers join orders on customers.customer_id=orders.customer_id\n",
    "group by customers.customer_id),\n",
    " \n",
    "b as (select a.customer_id,count(distinct orders.order_purchase_timestamp) next_order\n",
    "from a join orders on orders.customer_id=a.customer_id\n",
    "and orders.order_purchase_timestamp>first_order\n",
    "and orders.order_purchase_timestamp <date_add(first_order,interval 6 month)\n",
    "group by a.customer_id)\n",
    "select 100 * (count(distinct a.customer_id)/count(distinct b.customer_id)) as retention_rate\n",
    "from a left join b on\n",
    "a.customer_id=b.customer_id \"\"\"\n",
    "cur.execute(query)\n",
    "data = cur.fetchall()\n",
    "\"Retention Rate of Customers is:\", data[0][0]\n"
   ]
  },
  {
   "cell_type": "markdown",
   "id": "5b057447-dc07-4a9d-bbe1-6f4eccfc0e06",
   "metadata": {},
   "source": [
    "## The data shows that no customers made a repeat purchase within six months of their first order."
   ]
  },
  {
   "cell_type": "markdown",
   "id": "15d41e84-4909-483a-ac9a-96e3f581e8d2",
   "metadata": {},
   "source": [
    "# Identify the top 3 customers who spent the most money in each year"
   ]
  },
  {
   "cell_type": "code",
   "execution_count": 44,
   "id": "1ceb39be-1547-46b9-9896-d342cd52748b",
   "metadata": {},
   "outputs": [
    {
     "data": {
      "text/html": [
       "<div>\n",
       "<style scoped>\n",
       "    .dataframe tbody tr th:only-of-type {\n",
       "        vertical-align: middle;\n",
       "    }\n",
       "\n",
       "    .dataframe tbody tr th {\n",
       "        vertical-align: top;\n",
       "    }\n",
       "\n",
       "    .dataframe thead th {\n",
       "        text-align: right;\n",
       "    }\n",
       "</style>\n",
       "<table border=\"1\" class=\"dataframe\">\n",
       "  <thead>\n",
       "    <tr style=\"text-align: right;\">\n",
       "      <th></th>\n",
       "      <th>Customer_ID</th>\n",
       "      <th>Total_Revenue</th>\n",
       "    </tr>\n",
       "  </thead>\n",
       "  <tbody>\n",
       "    <tr>\n",
       "      <th>0</th>\n",
       "      <td>1617b1357756262bfa56ab541c47bc16</td>\n",
       "      <td>245953.44</td>\n",
       "    </tr>\n",
       "    <tr>\n",
       "      <th>1</th>\n",
       "      <td>3fd6777bbce08a352fddd04e4a7cc8f6</td>\n",
       "      <td>121079.88</td>\n",
       "    </tr>\n",
       "    <tr>\n",
       "      <th>2</th>\n",
       "      <td>ec5b2ba62e574342386871631fafd3fc</td>\n",
       "      <td>87298.56</td>\n",
       "    </tr>\n",
       "  </tbody>\n",
       "</table>\n",
       "</div>"
      ],
      "text/plain": [
       "                        Customer_ID  Total_Revenue\n",
       "0  1617b1357756262bfa56ab541c47bc16      245953.44\n",
       "1  3fd6777bbce08a352fddd04e4a7cc8f6      121079.88\n",
       "2  ec5b2ba62e574342386871631fafd3fc       87298.56"
      ]
     },
     "execution_count": 44,
     "metadata": {},
     "output_type": "execute_result"
    }
   ],
   "source": [
    "query = \"\"\" select c.customer_id,round(sum(p.payment_value),2) as Total_Revenue from customers c join orders o \n",
    "on c.customer_id = o.customer_id join payments p on\n",
    "p.order_id = o.order_id group by c.customer_id order by Total_Revenue desc limit 3 \"\"\"\n",
    "cur.execute(query)\n",
    "data = cur.fetchall()\n",
    "df = pd.DataFrame(data,columns = [\"Customer_ID\",\"Total_Revenue\"])\n",
    "df"
   ]
  },
  {
   "cell_type": "code",
   "execution_count": 16,
   "id": "be14b10f-6765-46c9-931b-fd112a43d2c0",
   "metadata": {},
   "outputs": [
    {
     "data": {
      "text/plain": [
       "<bound method DataFrame.sum of           0\n",
       "0     False\n",
       "1     False\n",
       "2     False\n",
       "3     False\n",
       "4     False\n",
       "...     ...\n",
       "4114  False\n",
       "4115  False\n",
       "4116  False\n",
       "4117  False\n",
       "4118  False\n",
       "\n",
       "[4119 rows x 1 columns]>"
      ]
     },
     "execution_count": 16,
     "metadata": {},
     "output_type": "execute_result"
    }
   ],
   "source": [
    "df.isnull().sum"
   ]
  },
  {
   "cell_type": "code",
   "execution_count": null,
   "id": "063e2b5b-086a-447e-afab-1abe1ea69792",
   "metadata": {},
   "outputs": [],
   "source": []
  }
 ],
 "metadata": {
  "kernelspec": {
   "display_name": "Python [conda env:base] *",
   "language": "python",
   "name": "conda-base-py"
  },
  "language_info": {
   "codemirror_mode": {
    "name": "ipython",
    "version": 3
   },
   "file_extension": ".py",
   "mimetype": "text/x-python",
   "name": "python",
   "nbconvert_exporter": "python",
   "pygments_lexer": "ipython3",
   "version": "3.12.7"
  }
 },
 "nbformat": 4,
 "nbformat_minor": 5
}
