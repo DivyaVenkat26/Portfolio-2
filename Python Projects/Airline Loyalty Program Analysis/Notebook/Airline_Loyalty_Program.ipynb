{
 "cells": [
  {
   "cell_type": "code",
   "execution_count": 12,
   "id": "e4315bce-c20b-4c15-a6ae-1dd7adf305a7",
   "metadata": {},
   "outputs": [
    {
     "name": "stdout",
     "output_type": "stream",
     "text": [
      "Processing calendar.csv\n",
      "NaN values before replacement:\n",
      "Date                0\n",
      "Start_of_Year       0\n",
      "Start_of_Quarter    0\n",
      "Start_of_Month      0\n",
      "dtype: int64\n",
      "\n",
      "Processing customer_flight_activity.csv\n",
      "NaN values before replacement:\n",
      "Loyalty_Number                 0\n",
      "Year                           0\n",
      "Month                          0\n",
      "Total_Flights                  0\n",
      "Distance                       0\n",
      "Points_Accumulated             0\n",
      "Points_Redeemed                0\n",
      "Dollar_Cost_Points_Redeemed    0\n",
      "Revenue                        0\n",
      "dtype: int64\n",
      "\n",
      "Processing customer_loyalty_history.csv\n",
      "NaN values before replacement:\n",
      "Loyalty_Number            0\n",
      "Country                   0\n",
      "Province                  0\n",
      "City                      0\n",
      "Postal_Code               0\n",
      "Gender                    0\n",
      "Education                 0\n",
      "Salary                 4238\n",
      "Marital_Status            0\n",
      "Loyalty_Card              0\n",
      "CLV                       0\n",
      "Enrollment_Type           0\n",
      "Enrollment_Year           0\n",
      "Enrollment_Month          0\n",
      "Cancellation_Year     14670\n",
      "Cancellation_Month    14670\n",
      "dtype: int64\n",
      "\n"
     ]
    }
   ],
   "source": [
    "import pandas as pd\n",
    "import mysql.connector\n",
    "import os\n",
    "\n",
    "# List of CSV files and their corresponding table names\n",
    "csv_files = [\n",
    "    ('calendar.csv', 'calendar'),\n",
    "    ('customer_flight_activity.csv', 'customer_flight_activity'),\n",
    "    ('customer_loyalty_history.csv', 'customer_loyalty_history')\n",
    "    # Added payments.csv for specific handling\n",
    "]\n",
    "\n",
    "# Connect to the MySQL database\n",
    "conn = mysql.connector.connect(\n",
    "    host='localhost',\n",
    "    user='root',\n",
    "    password='divi96',\n",
    "    database='airlines'\n",
    ")\n",
    "cursor = conn.cursor()\n",
    "\n",
    "# Folder containing the CSV files\n",
    "folder_path = r'C:\\Users\\ASUS\\Documents\\Python\\Airline Loyalty'\n",
    "\n",
    "def get_sql_type(dtype):\n",
    "    if pd.api.types.is_integer_dtype(dtype):\n",
    "        return 'INT'\n",
    "    elif pd.api.types.is_float_dtype(dtype):\n",
    "        return 'FLOAT'\n",
    "    elif pd.api.types.is_bool_dtype(dtype):\n",
    "        return 'BOOLEAN'\n",
    "    elif pd.api.types.is_datetime64_any_dtype(dtype):\n",
    "        return 'DATETIME'\n",
    "    else:\n",
    "        return 'TEXT'\n",
    "\n",
    "for csv_file, table_name in csv_files:\n",
    "    file_path = os.path.join(folder_path, csv_file)\n",
    "    \n",
    "    # Read the CSV file into a pandas DataFrame\n",
    "    df = pd.read_csv(file_path)\n",
    "    \n",
    "    # Replace NaN with None to handle SQL NULL\n",
    "    df = df.where(pd.notnull(df), None)\n",
    "    \n",
    "    # Debugging: Check for NaN values\n",
    "    print(f\"Processing {csv_file}\")\n",
    "    print(f\"NaN values before replacement:\\n{df.isnull().sum()}\\n\")\n",
    "\n",
    "    # Clean column names\n",
    "    df.columns = [col.replace(' ', '').replace('-', '').replace('.', '_') for col in df.columns]\n",
    "\n",
    "    # Generate the CREATE TABLE statement with appropriate data types\n",
    "    columns = ', '.join([f'{col} {get_sql_type(df[col].dtype)}' for col in df.columns])\n",
    "    create_table_query = f'CREATE TABLE IF NOT EXISTS {table_name} ({columns})'\n",
    "    cursor.execute(create_table_query)\n",
    "\n",
    "    # Insert DataFrame data into the MySQL table\n",
    "    for _, row in df.iterrows():\n",
    "        # Convert row to tuple and handle NaN/None explicitly\n",
    "        values = tuple(None if pd.isna(x) else x for x in row)\n",
    "        sql = f\"INSERT INTO {table_name} ({', '.join(['' + col + '' for col in df.columns])}) VALUES ({', '.join(['%s'] * len(row))})\"\n",
    "        cursor.execute(sql, values)\n",
    "\n",
    "    # Commit the transaction for the current CSV file\n",
    "    conn.commit()\n",
    "\n",
    "# Close the connection\n",
    "conn.close()"
   ]
  },
  {
   "cell_type": "code",
   "execution_count": 5,
   "id": "896e66eb-146d-4223-b58b-94578b4e2820",
   "metadata": {},
   "outputs": [],
   "source": [
    "import numpy as np\n",
    "import pandas as pd\n",
    "import matplotlib.pyplot as plt\n",
    "import seaborn as sns\n",
    "import mysql.connector\n",
    "db  =  mysql.connector.connect(host = 'localhost',\n",
    "                             username = 'root',\n",
    "                             password = 'divi96',\n",
    "                             database = \"airlines\")\n",
    "cur = db.cursor()"
   ]
  },
  {
   "cell_type": "code",
   "execution_count": 7,
   "id": "c521e407-3581-4a84-887c-a69d41d87942",
   "metadata": {},
   "outputs": [],
   "source": [
    "df.dropna(inplace = True)"
   ]
  },
  {
   "cell_type": "code",
   "execution_count": 8,
   "id": "053f751e-217c-4479-92cb-aac0b5f7417f",
   "metadata": {},
   "outputs": [
    {
     "data": {
      "text/html": [
       "<div>\n",
       "<style scoped>\n",
       "    .dataframe tbody tr th:only-of-type {\n",
       "        vertical-align: middle;\n",
       "    }\n",
       "\n",
       "    .dataframe tbody tr th {\n",
       "        vertical-align: top;\n",
       "    }\n",
       "\n",
       "    .dataframe thead th {\n",
       "        text-align: right;\n",
       "    }\n",
       "</style>\n",
       "<table border=\"1\" class=\"dataframe\">\n",
       "  <thead>\n",
       "    <tr style=\"text-align: right;\">\n",
       "      <th></th>\n",
       "      <th>Loyalty_Number</th>\n",
       "      <th>Country</th>\n",
       "      <th>Province</th>\n",
       "      <th>City</th>\n",
       "      <th>Postal_Code</th>\n",
       "      <th>Gender</th>\n",
       "      <th>Education</th>\n",
       "      <th>Salary</th>\n",
       "      <th>Marital_Status</th>\n",
       "      <th>Loyalty_Card</th>\n",
       "      <th>CLV</th>\n",
       "      <th>Enrollment_Type</th>\n",
       "      <th>Enrollment_Year</th>\n",
       "      <th>Enrollment_Month</th>\n",
       "      <th>Cancellation_Year</th>\n",
       "      <th>Cancellation_Month</th>\n",
       "    </tr>\n",
       "  </thead>\n",
       "  <tbody>\n",
       "    <tr>\n",
       "      <th>31</th>\n",
       "      <td>201574</td>\n",
       "      <td>Canada</td>\n",
       "      <td>Ontario</td>\n",
       "      <td>Ottawa</td>\n",
       "      <td>K1F 2R2</td>\n",
       "      <td>Female</td>\n",
       "      <td>Bachelor</td>\n",
       "      <td>51375.0</td>\n",
       "      <td>Married</td>\n",
       "      <td>Star</td>\n",
       "      <td>3893.31</td>\n",
       "      <td>Standard</td>\n",
       "      <td>2015</td>\n",
       "      <td>4</td>\n",
       "      <td>2015.0</td>\n",
       "      <td>12.0</td>\n",
       "    </tr>\n",
       "    <tr>\n",
       "      <th>39</th>\n",
       "      <td>834891</td>\n",
       "      <td>Canada</td>\n",
       "      <td>British Columbia</td>\n",
       "      <td>Vancouver</td>\n",
       "      <td>V5R 1W3</td>\n",
       "      <td>Female</td>\n",
       "      <td>Bachelor</td>\n",
       "      <td>54460.0</td>\n",
       "      <td>Married</td>\n",
       "      <td>Star</td>\n",
       "      <td>3911.12</td>\n",
       "      <td>Standard</td>\n",
       "      <td>2017</td>\n",
       "      <td>3</td>\n",
       "      <td>2017.0</td>\n",
       "      <td>4.0</td>\n",
       "    </tr>\n",
       "    <tr>\n",
       "      <th>45</th>\n",
       "      <td>733338</td>\n",
       "      <td>Canada</td>\n",
       "      <td>Ontario</td>\n",
       "      <td>Thunder Bay</td>\n",
       "      <td>K8T 5M5</td>\n",
       "      <td>Female</td>\n",
       "      <td>Bachelor</td>\n",
       "      <td>80697.0</td>\n",
       "      <td>Married</td>\n",
       "      <td>Star</td>\n",
       "      <td>3919.37</td>\n",
       "      <td>Standard</td>\n",
       "      <td>2016</td>\n",
       "      <td>6</td>\n",
       "      <td>2017.0</td>\n",
       "      <td>2.0</td>\n",
       "    </tr>\n",
       "    <tr>\n",
       "      <th>51</th>\n",
       "      <td>869743</td>\n",
       "      <td>Canada</td>\n",
       "      <td>Ontario</td>\n",
       "      <td>Sudbury</td>\n",
       "      <td>M5V 1G5</td>\n",
       "      <td>Female</td>\n",
       "      <td>Bachelor</td>\n",
       "      <td>73236.0</td>\n",
       "      <td>Single</td>\n",
       "      <td>Star</td>\n",
       "      <td>3924.42</td>\n",
       "      <td>Standard</td>\n",
       "      <td>2016</td>\n",
       "      <td>11</td>\n",
       "      <td>2017.0</td>\n",
       "      <td>7.0</td>\n",
       "    </tr>\n",
       "    <tr>\n",
       "      <th>65</th>\n",
       "      <td>386082</td>\n",
       "      <td>Canada</td>\n",
       "      <td>Alberta</td>\n",
       "      <td>Edmonton</td>\n",
       "      <td>T9G 1W3</td>\n",
       "      <td>Female</td>\n",
       "      <td>Bachelor</td>\n",
       "      <td>30486.0</td>\n",
       "      <td>Divorced</td>\n",
       "      <td>Aurora</td>\n",
       "      <td>5391.97</td>\n",
       "      <td>2018 Promotion</td>\n",
       "      <td>2018</td>\n",
       "      <td>3</td>\n",
       "      <td>2018.0</td>\n",
       "      <td>11.0</td>\n",
       "    </tr>\n",
       "  </tbody>\n",
       "</table>\n",
       "</div>"
      ],
      "text/plain": [
       "    Loyalty_Number Country          Province         City Postal_Code  Gender  \\\n",
       "31          201574  Canada           Ontario       Ottawa     K1F 2R2  Female   \n",
       "39          834891  Canada  British Columbia    Vancouver     V5R 1W3  Female   \n",
       "45          733338  Canada           Ontario  Thunder Bay     K8T 5M5  Female   \n",
       "51          869743  Canada           Ontario      Sudbury     M5V 1G5  Female   \n",
       "65          386082  Canada           Alberta     Edmonton     T9G 1W3  Female   \n",
       "\n",
       "   Education   Salary Marital_Status Loyalty_Card      CLV Enrollment_Type  \\\n",
       "31  Bachelor  51375.0        Married         Star  3893.31        Standard   \n",
       "39  Bachelor  54460.0        Married         Star  3911.12        Standard   \n",
       "45  Bachelor  80697.0        Married         Star  3919.37        Standard   \n",
       "51  Bachelor  73236.0         Single         Star  3924.42        Standard   \n",
       "65  Bachelor  30486.0       Divorced       Aurora  5391.97  2018 Promotion   \n",
       "\n",
       "    Enrollment_Year  Enrollment_Month  Cancellation_Year  Cancellation_Month  \n",
       "31             2015                 4             2015.0                12.0  \n",
       "39             2017                 3             2017.0                 4.0  \n",
       "45             2016                 6             2017.0                 2.0  \n",
       "51             2016                11             2017.0                 7.0  \n",
       "65             2018                 3             2018.0                11.0  "
      ]
     },
     "execution_count": 8,
     "metadata": {},
     "output_type": "execute_result"
    }
   ],
   "source": [
    "df.head()"
   ]
  },
  {
   "cell_type": "code",
   "execution_count": 11,
   "id": "47b1f631-c7de-4738-9cca-716dbcd7bc98",
   "metadata": {},
   "outputs": [
    {
     "data": {
      "text/plain": [
       "Loyalty_Number        0\n",
       "Country               0\n",
       "Province              0\n",
       "City                  0\n",
       "Postal_Code           0\n",
       "Gender                0\n",
       "Education             0\n",
       "Salary                0\n",
       "Marital_Status        0\n",
       "Loyalty_Card          0\n",
       "CLV                   0\n",
       "Enrollment_Type       0\n",
       "Enrollment_Year       0\n",
       "Enrollment_Month      0\n",
       "Cancellation_Year     0\n",
       "Cancellation_Month    0\n",
       "dtype: int64"
      ]
     },
     "execution_count": 11,
     "metadata": {},
     "output_type": "execute_result"
    }
   ],
   "source": [
    "df.isnull().sum()"
   ]
  },
  {
   "cell_type": "markdown",
   "id": "d60c4e92-1764-423f-b2d3-f660dfbb7749",
   "metadata": {},
   "source": [
    "# 1. Total Number of Unique Customers are in the dataset?"
   ]
  },
  {
   "cell_type": "code",
   "execution_count": 3,
   "id": "688f13d7-ad87-486e-b666-fddc65fc4ab7",
   "metadata": {},
   "outputs": [
    {
     "data": {
      "text/html": [
       "<div>\n",
       "<style scoped>\n",
       "    .dataframe tbody tr th:only-of-type {\n",
       "        vertical-align: middle;\n",
       "    }\n",
       "\n",
       "    .dataframe tbody tr th {\n",
       "        vertical-align: top;\n",
       "    }\n",
       "\n",
       "    .dataframe thead th {\n",
       "        text-align: right;\n",
       "    }\n",
       "</style>\n",
       "<table border=\"1\" class=\"dataframe\">\n",
       "  <thead>\n",
       "    <tr style=\"text-align: right;\">\n",
       "      <th></th>\n",
       "      <th>Customer_Count</th>\n",
       "      <th>Province_Count</th>\n",
       "      <th>City_Count</th>\n",
       "    </tr>\n",
       "  </thead>\n",
       "  <tbody>\n",
       "    <tr>\n",
       "      <th>0</th>\n",
       "      <td>16737</td>\n",
       "      <td>11</td>\n",
       "      <td>29</td>\n",
       "    </tr>\n",
       "  </tbody>\n",
       "</table>\n",
       "</div>"
      ],
      "text/plain": [
       "   Customer_Count  Province_Count  City_Count\n",
       "0           16737              11          29"
      ]
     },
     "execution_count": 3,
     "metadata": {},
     "output_type": "execute_result"
    }
   ],
   "source": [
    "query = \"\"\"select count(distinct loyalty_number) as unique_customer_count,count(distinct province) as unique_province_count,\n",
    "count(distinct city) as unique_city_count from customer_loyalty_history;\"\"\"\n",
    "cur.execute(query)\n",
    "data = cur.fetchall()\n",
    "df = pd.DataFrame(data,columns = [\"Customer_Count\",\"Province_Count\",\"City_Count\"])\n",
    "df"
   ]
  },
  {
   "cell_type": "markdown",
   "id": "dd3d5d78-f7eb-402a-8f93-1b84803883ff",
   "metadata": {},
   "source": [
    "# 2. Average revenue per customer?"
   ]
  },
  {
   "cell_type": "code",
   "execution_count": 4,
   "id": "3caa9f6e-3e56-434b-9602-5e99677931e1",
   "metadata": {},
   "outputs": [
    {
     "data": {
      "text/plain": [
       "('Average revenue per customer is :', 232.97)"
      ]
     },
     "execution_count": 4,
     "metadata": {},
     "output_type": "execute_result"
    }
   ],
   "source": [
    "query = \"\"\" select round(avg(revenue),2) from customer_flight_activity\"\"\"\n",
    "cur.execute(query)\n",
    "data = cur.fetchall()\n",
    "\"Average revenue per customer is :\",data[0][0]"
   ]
  },
  {
   "cell_type": "markdown",
   "id": "be134d40-c4ae-4a1f-98a0-65494ed349fb",
   "metadata": {},
   "source": [
    "# 3. Total Number of Flights Taken"
   ]
  },
  {
   "cell_type": "code",
   "execution_count": 7,
   "id": "2cf49d28-a04e-47df-975a-8fa3dbfe73a3",
   "metadata": {},
   "outputs": [
    {
     "data": {
      "text/plain": [
       "('Total Flights Taken by Customers:', Decimal('1017616'))"
      ]
     },
     "execution_count": 7,
     "metadata": {},
     "output_type": "execute_result"
    }
   ],
   "source": [
    "query = \"\"\"select sum(Total_Flights) from customer_flight_activity\"\"\"\n",
    "cur.execute(query)\n",
    "data = cur.fetchall()\n",
    "\"Total Flights Taken by Customers:\",data[0][0]"
   ]
  },
  {
   "cell_type": "markdown",
   "id": "55dce076-3fb7-480b-93c7-7b1f2c2e71db",
   "metadata": {},
   "source": [
    "# 4. Calculating the Average Number of Flights taken by Each Customers"
   ]
  },
  {
   "cell_type": "code",
   "execution_count": 6,
   "id": "1a4d3fb4-6798-43c2-8e92-cf275ffdfca8",
   "metadata": {},
   "outputs": [
    {
     "data": {
      "text/plain": [
       "('Average Number Of Flights Taken by  Each Customers:', Decimal('1.29'))"
      ]
     },
     "execution_count": 6,
     "metadata": {},
     "output_type": "execute_result"
    }
   ],
   "source": [
    "query = \"\"\"select round(avg(Total_Flights),2) from customer_flight_activity\"\"\"\n",
    "cur.execute(query)\n",
    "data = cur.fetchall()\n",
    "\"Average Number Of Flights Taken by  Each Customers:\",data[0][0]"
   ]
  },
  {
   "cell_type": "markdown",
   "id": "9e1027c5-c432-4771-a7bf-902d014f37b6",
   "metadata": {},
   "source": [
    "# 5. Identifying the distribution of customers across different loyalty tiers?"
   ]
  },
  {
   "cell_type": "code",
   "execution_count": 9,
   "id": "39ec082d-2e1e-4d77-bd05-ddc9beb68d0f",
   "metadata": {},
   "outputs": [
    {
     "data": {
      "text/html": [
       "<div>\n",
       "<style scoped>\n",
       "    .dataframe tbody tr th:only-of-type {\n",
       "        vertical-align: middle;\n",
       "    }\n",
       "\n",
       "    .dataframe tbody tr th {\n",
       "        vertical-align: top;\n",
       "    }\n",
       "\n",
       "    .dataframe thead th {\n",
       "        text-align: right;\n",
       "    }\n",
       "</style>\n",
       "<table border=\"1\" class=\"dataframe\">\n",
       "  <thead>\n",
       "    <tr style=\"text-align: right;\">\n",
       "      <th></th>\n",
       "      <th>Loyalty Card</th>\n",
       "      <th>Distribution of Customers</th>\n",
       "    </tr>\n",
       "  </thead>\n",
       "  <tbody>\n",
       "    <tr>\n",
       "      <th>0</th>\n",
       "      <td>Star</td>\n",
       "      <td>7637</td>\n",
       "    </tr>\n",
       "    <tr>\n",
       "      <th>1</th>\n",
       "      <td>Nova</td>\n",
       "      <td>5671</td>\n",
       "    </tr>\n",
       "    <tr>\n",
       "      <th>2</th>\n",
       "      <td>Aurora</td>\n",
       "      <td>3429</td>\n",
       "    </tr>\n",
       "  </tbody>\n",
       "</table>\n",
       "</div>"
      ],
      "text/plain": [
       "  Loyalty Card  Distribution of Customers\n",
       "0         Star                       7637\n",
       "1         Nova                       5671\n",
       "2       Aurora                       3429"
      ]
     },
     "execution_count": 9,
     "metadata": {},
     "output_type": "execute_result"
    }
   ],
   "source": [
    "query = \"\"\" select loyalty_card,count(distinct loyalty_number) as num_of_customers from customer_loyalty_history \n",
    "group by loyalty_card order by num_of_customers desc \"\"\"\n",
    "cur.execute(query)\n",
    "data = cur.fetchall()\n",
    "df = pd.DataFrame(data,columns = ['Loyalty Card','Distribution of Customers'])\n",
    "df"
   ]
  },
  {
   "cell_type": "markdown",
   "id": "7f1ad609-9e16-463a-bcb0-47791e6821ae",
   "metadata": {},
   "source": [
    "# 6. Calculating the average number of flights per customer per year?"
   ]
  },
  {
   "cell_type": "code",
   "execution_count": 11,
   "id": "d0002a1c-042a-4fe4-bb00-78bc747bef07",
   "metadata": {},
   "outputs": [
    {
     "data": {
      "text/html": [
       "<div>\n",
       "<style scoped>\n",
       "    .dataframe tbody tr th:only-of-type {\n",
       "        vertical-align: middle;\n",
       "    }\n",
       "\n",
       "    .dataframe tbody tr th {\n",
       "        vertical-align: top;\n",
       "    }\n",
       "\n",
       "    .dataframe thead th {\n",
       "        text-align: right;\n",
       "    }\n",
       "</style>\n",
       "<table border=\"1\" class=\"dataframe\">\n",
       "  <thead>\n",
       "    <tr style=\"text-align: right;\">\n",
       "      <th></th>\n",
       "      <th>Loyalty Number</th>\n",
       "      <th>Year</th>\n",
       "      <th>Total FLights</th>\n",
       "    </tr>\n",
       "  </thead>\n",
       "  <tbody>\n",
       "    <tr>\n",
       "      <th>0</th>\n",
       "      <td>813455</td>\n",
       "      <td>2018</td>\n",
       "      <td>9.4545</td>\n",
       "    </tr>\n",
       "    <tr>\n",
       "      <th>1</th>\n",
       "      <td>385092</td>\n",
       "      <td>2018</td>\n",
       "      <td>9.2727</td>\n",
       "    </tr>\n",
       "    <tr>\n",
       "      <th>2</th>\n",
       "      <td>983416</td>\n",
       "      <td>2018</td>\n",
       "      <td>9.0909</td>\n",
       "    </tr>\n",
       "    <tr>\n",
       "      <th>3</th>\n",
       "      <td>110065</td>\n",
       "      <td>2018</td>\n",
       "      <td>8.8182</td>\n",
       "    </tr>\n",
       "    <tr>\n",
       "      <th>4</th>\n",
       "      <td>625320</td>\n",
       "      <td>2018</td>\n",
       "      <td>8.7273</td>\n",
       "    </tr>\n",
       "    <tr>\n",
       "      <th>...</th>\n",
       "      <td>...</td>\n",
       "      <td>...</td>\n",
       "      <td>...</td>\n",
       "    </tr>\n",
       "    <tr>\n",
       "      <th>32498</th>\n",
       "      <td>250089</td>\n",
       "      <td>2018</td>\n",
       "      <td>0.0000</td>\n",
       "    </tr>\n",
       "    <tr>\n",
       "      <th>32499</th>\n",
       "      <td>252135</td>\n",
       "      <td>2018</td>\n",
       "      <td>0.0000</td>\n",
       "    </tr>\n",
       "    <tr>\n",
       "      <th>32500</th>\n",
       "      <td>252472</td>\n",
       "      <td>2018</td>\n",
       "      <td>0.0000</td>\n",
       "    </tr>\n",
       "    <tr>\n",
       "      <th>32501</th>\n",
       "      <td>264034</td>\n",
       "      <td>2018</td>\n",
       "      <td>0.0000</td>\n",
       "    </tr>\n",
       "    <tr>\n",
       "      <th>32502</th>\n",
       "      <td>281777</td>\n",
       "      <td>2018</td>\n",
       "      <td>0.0000</td>\n",
       "    </tr>\n",
       "  </tbody>\n",
       "</table>\n",
       "<p>32503 rows × 3 columns</p>\n",
       "</div>"
      ],
      "text/plain": [
       "       Loyalty Number  Year Total FLights\n",
       "0              813455  2018        9.4545\n",
       "1              385092  2018        9.2727\n",
       "2              983416  2018        9.0909\n",
       "3              110065  2018        8.8182\n",
       "4              625320  2018        8.7273\n",
       "...               ...   ...           ...\n",
       "32498          250089  2018        0.0000\n",
       "32499          252135  2018        0.0000\n",
       "32500          252472  2018        0.0000\n",
       "32501          264034  2018        0.0000\n",
       "32502          281777  2018        0.0000\n",
       "\n",
       "[32503 rows x 3 columns]"
      ]
     },
     "execution_count": 11,
     "metadata": {},
     "output_type": "execute_result"
    }
   ],
   "source": [
    "query = \"\"\" select distinct loyalty_number,year,avg(Total_Flights) as Avg_Num_of_flights from customer_flight_activity \n",
    "group by loyalty_number,year order by Avg_Num_of_flights desc \"\"\"\n",
    "cur.execute(query)\n",
    "data = cur.fetchall()\n",
    "df = pd.DataFrame(data,columns = [\"Loyalty Number\",\"Year\",\"Total FLights\"])\n",
    "df"
   ]
  },
  {
   "cell_type": "markdown",
   "id": "b0abf864-5754-46c1-8622-021162ecd7d4",
   "metadata": {},
   "source": [
    "# 7.Top 10 Customers with the highest number of flights"
   ]
  },
  {
   "cell_type": "code",
   "execution_count": 23,
   "id": "6e8e392c-c7df-4d51-b961-343a802355de",
   "metadata": {},
   "outputs": [
    {
     "data": {
      "text/html": [
       "<div>\n",
       "<style scoped>\n",
       "    .dataframe tbody tr th:only-of-type {\n",
       "        vertical-align: middle;\n",
       "    }\n",
       "\n",
       "    .dataframe tbody tr th {\n",
       "        vertical-align: top;\n",
       "    }\n",
       "\n",
       "    .dataframe thead th {\n",
       "        text-align: right;\n",
       "    }\n",
       "</style>\n",
       "<table border=\"1\" class=\"dataframe\">\n",
       "  <thead>\n",
       "    <tr style=\"text-align: right;\">\n",
       "      <th></th>\n",
       "      <th>Customer Loyalty Number</th>\n",
       "      <th>Total Flights Taken</th>\n",
       "    </tr>\n",
       "  </thead>\n",
       "  <tbody>\n",
       "    <tr>\n",
       "      <th>0</th>\n",
       "      <td>336882</td>\n",
       "      <td>212</td>\n",
       "    </tr>\n",
       "    <tr>\n",
       "      <th>1</th>\n",
       "      <td>813455</td>\n",
       "      <td>208</td>\n",
       "    </tr>\n",
       "    <tr>\n",
       "      <th>2</th>\n",
       "      <td>385092</td>\n",
       "      <td>204</td>\n",
       "    </tr>\n",
       "    <tr>\n",
       "      <th>3</th>\n",
       "      <td>983416</td>\n",
       "      <td>200</td>\n",
       "    </tr>\n",
       "    <tr>\n",
       "      <th>4</th>\n",
       "      <td>732304</td>\n",
       "      <td>196</td>\n",
       "    </tr>\n",
       "    <tr>\n",
       "      <th>5</th>\n",
       "      <td>110065</td>\n",
       "      <td>194</td>\n",
       "    </tr>\n",
       "    <tr>\n",
       "      <th>6</th>\n",
       "      <td>464187</td>\n",
       "      <td>192</td>\n",
       "    </tr>\n",
       "    <tr>\n",
       "      <th>7</th>\n",
       "      <td>625320</td>\n",
       "      <td>192</td>\n",
       "    </tr>\n",
       "    <tr>\n",
       "      <th>8</th>\n",
       "      <td>556492</td>\n",
       "      <td>190</td>\n",
       "    </tr>\n",
       "    <tr>\n",
       "      <th>9</th>\n",
       "      <td>255836</td>\n",
       "      <td>188</td>\n",
       "    </tr>\n",
       "  </tbody>\n",
       "</table>\n",
       "</div>"
      ],
      "text/plain": [
       "   Customer Loyalty Number Total Flights Taken\n",
       "0                   336882                 212\n",
       "1                   813455                 208\n",
       "2                   385092                 204\n",
       "3                   983416                 200\n",
       "4                   732304                 196\n",
       "5                   110065                 194\n",
       "6                   464187                 192\n",
       "7                   625320                 192\n",
       "8                   556492                 190\n",
       "9                   255836                 188"
      ]
     },
     "execution_count": 23,
     "metadata": {},
     "output_type": "execute_result"
    }
   ],
   "source": [
    "query = \"\"\" select loyalty_number,sum(total_flights) as Total_Flights from customer_flight_activity \n",
    "group by loyalty_number order by Total_Flights desc limit 10 \"\"\"\n",
    "cur.execute(query)\n",
    "data = cur.fetchall()\n",
    "df = pd.DataFrame(data,columns = [\"Customer Loyalty Number\",\"Total Flights Taken\"])\n",
    "df"
   ]
  },
  {
   "cell_type": "markdown",
   "id": "c02b8234-debd-4dbf-bb05-9c0c5928d163",
   "metadata": {},
   "source": [
    "# 8. Plotting the month/season which has the highest customer flight activity?"
   ]
  },
  {
   "cell_type": "code",
   "execution_count": 14,
   "id": "0aba6f65-cb27-4068-aa7f-04a855a65dc0",
   "metadata": {},
   "outputs": [
    {
     "data": {
      "image/png": "[encoded data removed]",
      "text/plain": [
       "<Figure size 1500x500 with 1 Axes>"
      ]
     },
     "metadata": {},
     "output_type": "display_data"
    }
   ],
   "source": [
    "query = \"\"\" select case month when 1 then 'January' when 2 then 'February' when 3 then 'March' when 4 then 'April'\n",
    "when 5 then 'May'\n",
    "when 6 then 'June'\n",
    "when 7 then 'July'\n",
    "when 8 then 'August'\n",
    "when 9 then 'September'\n",
    "when 10 then 'October'\n",
    "when 11 then 'November'\n",
    "when 12 then 'December'\n",
    "end as month_name,sum(total_flights) as Total_Flights from customer_flight_activity \n",
    "group by month,month_name order by Total_Flights desc \"\"\"\n",
    "cur.execute(query)\n",
    "data = cur.fetchall()\n",
    "df = pd.DataFrame(data,columns = [\"Months\",\"Total Flights\"])\n",
    "plt.figure(figsize = (15,5))\n",
    "sns.barplot(x = \"Months\" , y = \"Total Flights\",data = df,hue = \"Months\",palette = \"Paired\")\n",
    "plt.title(\"Month-Wise Customer Flight Activity\")\n",
    "plt.show()"
   ]
  },
  {
   "cell_type": "markdown",
   "id": "e5287ec4-6215-4e5d-8157-d26663bf2172",
   "metadata": {},
   "source": [
    "## From the graph, we can see that July has the highest customer flight activity, followed by June, August, and September."
   ]
  },
  {
   "cell_type": "markdown",
   "id": "8d208903-b705-498b-99c9-55bb68eca47c",
   "metadata": {},
   "source": [
    "# 9. Top 10 Revenue generating Customers"
   ]
  },
  {
   "cell_type": "code",
   "execution_count": 15,
   "id": "2f9ae990-6205-42b8-922a-03d07c1d1dfc",
   "metadata": {},
   "outputs": [
    {
     "data": {
      "text/html": [
       "<div>\n",
       "<style scoped>\n",
       "    .dataframe tbody tr th:only-of-type {\n",
       "        vertical-align: middle;\n",
       "    }\n",
       "\n",
       "    .dataframe tbody tr th {\n",
       "        vertical-align: top;\n",
       "    }\n",
       "\n",
       "    .dataframe thead th {\n",
       "        text-align: right;\n",
       "    }\n",
       "</style>\n",
       "<table border=\"1\" class=\"dataframe\">\n",
       "  <thead>\n",
       "    <tr style=\"text-align: right;\">\n",
       "      <th></th>\n",
       "      <th>Customer Loyalty Number</th>\n",
       "      <th>Total Revenue</th>\n",
       "    </tr>\n",
       "  </thead>\n",
       "  <tbody>\n",
       "    <tr>\n",
       "      <th>0</th>\n",
       "      <td>689839</td>\n",
       "      <td>42925.92</td>\n",
       "    </tr>\n",
       "    <tr>\n",
       "      <th>1</th>\n",
       "      <td>893866</td>\n",
       "      <td>40473.60</td>\n",
       "    </tr>\n",
       "    <tr>\n",
       "      <th>2</th>\n",
       "      <td>500248</td>\n",
       "      <td>38099.28</td>\n",
       "    </tr>\n",
       "    <tr>\n",
       "      <th>3</th>\n",
       "      <td>775768</td>\n",
       "      <td>37735.44</td>\n",
       "    </tr>\n",
       "    <tr>\n",
       "      <th>4</th>\n",
       "      <td>133324</td>\n",
       "      <td>37410.48</td>\n",
       "    </tr>\n",
       "    <tr>\n",
       "      <th>5</th>\n",
       "      <td>471015</td>\n",
       "      <td>37148.16</td>\n",
       "    </tr>\n",
       "    <tr>\n",
       "      <th>6</th>\n",
       "      <td>385092</td>\n",
       "      <td>37029.12</td>\n",
       "    </tr>\n",
       "    <tr>\n",
       "      <th>7</th>\n",
       "      <td>201273</td>\n",
       "      <td>36055.44</td>\n",
       "    </tr>\n",
       "    <tr>\n",
       "      <th>8</th>\n",
       "      <td>208961</td>\n",
       "      <td>36045.12</td>\n",
       "    </tr>\n",
       "    <tr>\n",
       "      <th>9</th>\n",
       "      <td>556492</td>\n",
       "      <td>35947.68</td>\n",
       "    </tr>\n",
       "  </tbody>\n",
       "</table>\n",
       "</div>"
      ],
      "text/plain": [
       "   Customer Loyalty Number  Total Revenue\n",
       "0                   689839       42925.92\n",
       "1                   893866       40473.60\n",
       "2                   500248       38099.28\n",
       "3                   775768       37735.44\n",
       "4                   133324       37410.48\n",
       "5                   471015       37148.16\n",
       "6                   385092       37029.12\n",
       "7                   201273       36055.44\n",
       "8                   208961       36045.12\n",
       "9                   556492       35947.68"
      ]
     },
     "execution_count": 15,
     "metadata": {},
     "output_type": "execute_result"
    }
   ],
   "source": [
    "query = \"\"\" select loyalty_number,sum(revenue) as Total_Revenue from customer_flight_activity group by loyalty_number \n",
    "order by Total_Revenue desc limit 10\"\"\"\n",
    "cur.execute(query)\n",
    "data = cur.fetchall()\n",
    "df = pd.DataFrame(data,columns = [\"Customer Loyalty Number\",\"Total Revenue\"])\n",
    "df"
   ]
  },
  {
   "cell_type": "markdown",
   "id": "1f70c6e4-a6ac-4553-a067-1a37281cbb71",
   "metadata": {},
   "source": [
    "# 10. Calculating Revenue per Loyalty Tier"
   ]
  },
  {
   "cell_type": "code",
   "execution_count": 17,
   "id": "a5f8303c-11ab-47ca-8fbb-7cebbe295f7a",
   "metadata": {},
   "outputs": [
    {
     "data": {
      "text/html": [
       "<div>\n",
       "<style scoped>\n",
       "    .dataframe tbody tr th:only-of-type {\n",
       "        vertical-align: middle;\n",
       "    }\n",
       "\n",
       "    .dataframe tbody tr th {\n",
       "        vertical-align: top;\n",
       "    }\n",
       "\n",
       "    .dataframe thead th {\n",
       "        text-align: right;\n",
       "    }\n",
       "</style>\n",
       "<table border=\"1\" class=\"dataframe\">\n",
       "  <thead>\n",
       "    <tr style=\"text-align: right;\">\n",
       "      <th></th>\n",
       "      <th>Loyalty_card</th>\n",
       "      <th>Total Revenue</th>\n",
       "      <th>Revenue_Percentage</th>\n",
       "    </tr>\n",
       "  </thead>\n",
       "  <tbody>\n",
       "    <tr>\n",
       "      <th>0</th>\n",
       "      <td>Star</td>\n",
       "      <td>1.655205e+08</td>\n",
       "      <td>90.41</td>\n",
       "    </tr>\n",
       "    <tr>\n",
       "      <th>1</th>\n",
       "      <td>Nova</td>\n",
       "      <td>1.245686e+08</td>\n",
       "      <td>68.04</td>\n",
       "    </tr>\n",
       "    <tr>\n",
       "      <th>2</th>\n",
       "      <td>Aurora</td>\n",
       "      <td>7.608460e+07</td>\n",
       "      <td>41.56</td>\n",
       "    </tr>\n",
       "  </tbody>\n",
       "</table>\n",
       "</div>"
      ],
      "text/plain": [
       "  Loyalty_card  Total Revenue  Revenue_Percentage\n",
       "0         Star   1.655205e+08               90.41\n",
       "1         Nova   1.245686e+08               68.04\n",
       "2       Aurora   7.608460e+07               41.56"
      ]
     },
     "execution_count": 17,
     "metadata": {},
     "output_type": "execute_result"
    }
   ],
   "source": [
    "query = \"\"\" select l.loyalty_card,round(sum(f.revenue),2) as Total_Revenue,round(sum(f.revenue)/(select sum(revenue) from customer_flight_activity)*100,2) as Rvenue_Percentage \n",
    "from customer_loyalty_history as l join customer_flight_activity as f \n",
    "on l.loyalty_number = f.loyalty_number group by loyalty_card order by Total_Revenue desc \"\"\"\n",
    "cur.execute(query)\n",
    "data = cur.fetchall()\n",
    "df = pd.DataFrame(data,columns = [\"Loyalty_card\",\"Total Revenue\",\"Revenue_Percentage\"])\n",
    "df"
   ]
  },
  {
   "cell_type": "markdown",
   "id": "4a368639-5799-4959-8159-ace5e150b635",
   "metadata": {},
   "source": [
    "# 11.Identifying do higher-tier customers take more flights than lower-tier ones?"
   ]
  },
  {
   "cell_type": "code",
   "execution_count": 19,
   "id": "7d80423c-2c06-47d3-8e26-a209103e437b",
   "metadata": {},
   "outputs": [
    {
     "data": {
      "text/html": [
       "<div>\n",
       "<style scoped>\n",
       "    .dataframe tbody tr th:only-of-type {\n",
       "        vertical-align: middle;\n",
       "    }\n",
       "\n",
       "    .dataframe tbody tr th {\n",
       "        vertical-align: top;\n",
       "    }\n",
       "\n",
       "    .dataframe thead th {\n",
       "        text-align: right;\n",
       "    }\n",
       "</style>\n",
       "<table border=\"1\" class=\"dataframe\">\n",
       "  <thead>\n",
       "    <tr style=\"text-align: right;\">\n",
       "      <th></th>\n",
       "      <th>Loyalty_card</th>\n",
       "      <th>Average_Flights_Per_Customer</th>\n",
       "    </tr>\n",
       "  </thead>\n",
       "  <tbody>\n",
       "    <tr>\n",
       "      <th>0</th>\n",
       "      <td>Nova</td>\n",
       "      <td>1.30</td>\n",
       "    </tr>\n",
       "    <tr>\n",
       "      <th>1</th>\n",
       "      <td>Star</td>\n",
       "      <td>1.29</td>\n",
       "    </tr>\n",
       "    <tr>\n",
       "      <th>2</th>\n",
       "      <td>Aurora</td>\n",
       "      <td>1.29</td>\n",
       "    </tr>\n",
       "  </tbody>\n",
       "</table>\n",
       "</div>"
      ],
      "text/plain": [
       "  Loyalty_card Average_Flights_Per_Customer\n",
       "0         Nova                         1.30\n",
       "1         Star                         1.29\n",
       "2       Aurora                         1.29"
      ]
     },
     "execution_count": 19,
     "metadata": {},
     "output_type": "execute_result"
    }
   ],
   "source": [
    "query = \"\"\" SELECT l.loyalty_card,round(AVG(f.total_flights),2) AS avg_flights_per_customer FROM customer_loyalty_history l\n",
    "JOIN customer_flight_activity f ON l.loyalty_number = f.loyalty_number\n",
    "GROUP BY l.loyalty_card\n",
    "ORDER BY avg_flights_per_customer DESC \"\"\"\n",
    "cur.execute(query)\n",
    "data = cur.fetchall()\n",
    "df = pd.DataFrame(data,columns = [\"Loyalty_card\",\"Average_Flights_Per_Customer\"])\n",
    "df"
   ]
  },
  {
   "cell_type": "markdown",
   "id": "9ad3f1e9-4991-468d-b7d5-53afa8c8f778",
   "metadata": {},
   "source": [
    "# 12. Revenue Contribution by Tier Over Time"
   ]
  },
  {
   "cell_type": "code",
   "execution_count": 15,
   "id": "1355b0b6-afd4-42a5-b8a7-eebe4e6514eb",
   "metadata": {},
   "outputs": [
    {
     "data": {
      "image/png": "[encoded data removed]",
      "text/plain": [
       "<Figure size 640x480 with 1 Axes>"
      ]
     },
     "metadata": {},
     "output_type": "display_data"
    }
   ],
   "source": [
    "# Calculating Revenue Contribution by Tier Over Time\n",
    "query = \"\"\" select f.year,l.loyalty_card,round(sum(f.revenue),2) as Total_Revenue \n",
    "from customer_loyalty_history as l join customer_flight_activity as f \n",
    "on l.loyalty_number = f.loyalty_number group by f.year,l.loyalty_card order by Total_Revenue desc \"\"\"\n",
    "cur.execute(query)\n",
    "data = cur.fetchall()\n",
    "df = pd.DataFrame(data,columns = [\"Year\",\"Loyalty Card\",\"Total Revenue\"])\n",
    "sns.barplot(x = \"Loyalty Card\",y = \"Total Revenue\",data = df,hue = \"Year\",palette = \"Paired\")\n",
    "plt.show()"
   ]
  },
  {
   "cell_type": "markdown",
   "id": "7b7caae3-a5ad-4fca-8925-beb79e066b31",
   "metadata": {},
   "source": [
    "## From the above graph we can see that Star members generated the highest revenue, and 2018 outperformed 2017."
   ]
  },
  {
   "cell_type": "markdown",
   "id": "a9a8b570-81c5-4a53-abba-62d2642533b5",
   "metadata": {},
   "source": [
    "# 13. Is there Customers who were active before but stopped flying in recent years."
   ]
  },
  {
   "cell_type": "code",
   "execution_count": 21,
   "id": "0a26823f-cfe4-4678-8779-68329e7c8d6d",
   "metadata": {},
   "outputs": [
    {
     "data": {
      "text/html": [
       "<div>\n",
       "<style scoped>\n",
       "    .dataframe tbody tr th:only-of-type {\n",
       "        vertical-align: middle;\n",
       "    }\n",
       "\n",
       "    .dataframe tbody tr th {\n",
       "        vertical-align: top;\n",
       "    }\n",
       "\n",
       "    .dataframe thead th {\n",
       "        text-align: right;\n",
       "    }\n",
       "</style>\n",
       "<table border=\"1\" class=\"dataframe\">\n",
       "  <thead>\n",
       "    <tr style=\"text-align: right;\">\n",
       "      <th></th>\n",
       "      <th>Loyalty Number</th>\n",
       "      <th>First Year</th>\n",
       "      <th>Last Year</th>\n",
       "    </tr>\n",
       "  </thead>\n",
       "  <tbody>\n",
       "  </tbody>\n",
       "</table>\n",
       "</div>"
      ],
      "text/plain": [
       "Empty DataFrame\n",
       "Columns: [Loyalty Number, First Year, Last Year]\n",
       "Index: []"
      ]
     },
     "execution_count": 21,
     "metadata": {},
     "output_type": "execute_result"
    }
   ],
   "source": [
    "query = \"\"\" with a as (select loyalty_number,min(year) as first_year,max(year) as last_year from customer_flight_activity \n",
    "group by loyalty_number)\n",
    "select loyalty_number,first_year,last_year from a where last_year< (select max(year) from customer_flight_activity)\"\"\"\n",
    "cur.execute(query)\n",
    "data = cur.fetchall()\n",
    "df = pd.DataFrame(data,columns = [\"Loyalty Number\",\"First Year\",\"Last Year\"])\n",
    "df"
   ]
  },
  {
   "cell_type": "markdown",
   "id": "590ed9eb-abb9-44a8-85a3-c1916fa8d21b",
   "metadata": {},
   "source": [
    "## All customers in the dataset remained active during the observation period"
   ]
  },
  {
   "cell_type": "markdown",
   "id": "63621a02-5236-4ae0-b04c-06e757cb154d",
   "metadata": {},
   "source": [
    "# 14. Identifying Which loyalty tier has the highest cancellation rate?"
   ]
  },
  {
   "cell_type": "code",
   "execution_count": 22,
   "id": "5737e813-2cbe-462c-85f8-e5ab87a8de7a",
   "metadata": {},
   "outputs": [
    {
     "data": {
      "text/html": [
       "<div>\n",
       "<style scoped>\n",
       "    .dataframe tbody tr th:only-of-type {\n",
       "        vertical-align: middle;\n",
       "    }\n",
       "\n",
       "    .dataframe tbody tr th {\n",
       "        vertical-align: top;\n",
       "    }\n",
       "\n",
       "    .dataframe thead th {\n",
       "        text-align: right;\n",
       "    }\n",
       "</style>\n",
       "<table border=\"1\" class=\"dataframe\">\n",
       "  <thead>\n",
       "    <tr style=\"text-align: right;\">\n",
       "      <th></th>\n",
       "      <th>Loyalty Card</th>\n",
       "      <th>Cancellation Percentage</th>\n",
       "    </tr>\n",
       "  </thead>\n",
       "  <tbody>\n",
       "    <tr>\n",
       "      <th>0</th>\n",
       "      <td>Aurora</td>\n",
       "      <td>56.5471</td>\n",
       "    </tr>\n",
       "    <tr>\n",
       "      <th>1</th>\n",
       "      <td>Nova</td>\n",
       "      <td>56.3216</td>\n",
       "    </tr>\n",
       "    <tr>\n",
       "      <th>2</th>\n",
       "      <td>Star</td>\n",
       "      <td>55.8989</td>\n",
       "    </tr>\n",
       "  </tbody>\n",
       "</table>\n",
       "</div>"
      ],
      "text/plain": [
       "  Loyalty Card Cancellation Percentage\n",
       "0       Aurora                 56.5471\n",
       "1         Nova                 56.3216\n",
       "2         Star                 55.8989"
      ]
     },
     "execution_count": 22,
     "metadata": {},
     "output_type": "execute_result"
    }
   ],
   "source": [
    "query = \"\"\" select loyalty_card,count(case when cancellation_year is not null then 1 end) * 100/count(*) as cancellation_rate \n",
    "from customer_loyalty_history group by loyalty_card order by cancellation_rate desc \"\"\"\n",
    "cur.execute(query)\n",
    "data = cur.fetchall()\n",
    "df = pd.DataFrame(data,columns = [\"Loyalty Card\",\"Cancellation Percentage\"])\n",
    "df"
   ]
  },
  {
   "cell_type": "markdown",
   "id": "bdc55cb8-36ab-4f74-ae1d-db244168e4a4",
   "metadata": {},
   "source": [
    "# 15. Identifying is there a relationship between points redeemed and cancellations?"
   ]
  },
  {
   "cell_type": "code",
   "execution_count": 18,
   "id": "bf8a77c4-527b-4c6b-82c3-63054a78d4a1",
   "metadata": {},
   "outputs": [
    {
     "data": {
      "text/html": [
       "<div>\n",
       "<style scoped>\n",
       "    .dataframe tbody tr th:only-of-type {\n",
       "        vertical-align: middle;\n",
       "    }\n",
       "\n",
       "    .dataframe tbody tr th {\n",
       "        vertical-align: top;\n",
       "    }\n",
       "\n",
       "    .dataframe thead th {\n",
       "        text-align: right;\n",
       "    }\n",
       "</style>\n",
       "<table border=\"1\" class=\"dataframe\">\n",
       "  <thead>\n",
       "    <tr style=\"text-align: right;\">\n",
       "      <th></th>\n",
       "      <th>Customer Loyalty Tier Status</th>\n",
       "      <th>Number Of Customers</th>\n",
       "      <th>Average Points Redeemed</th>\n",
       "      <th>Total Points Redeemed</th>\n",
       "    </tr>\n",
       "  </thead>\n",
       "  <tbody>\n",
       "    <tr>\n",
       "      <th>0</th>\n",
       "      <td>Active</td>\n",
       "      <td>14670</td>\n",
       "      <td>34</td>\n",
       "      <td>23701842</td>\n",
       "    </tr>\n",
       "    <tr>\n",
       "      <th>1</th>\n",
       "      <td>Cancelled</td>\n",
       "      <td>16737</td>\n",
       "      <td>29</td>\n",
       "      <td>25500446</td>\n",
       "    </tr>\n",
       "  </tbody>\n",
       "</table>\n",
       "</div>"
      ],
      "text/plain": [
       "  Customer Loyalty Tier Status  Number Of Customers Average Points Redeemed  \\\n",
       "0                       Active                14670                      34   \n",
       "1                    Cancelled                16737                      29   \n",
       "\n",
       "  Total Points Redeemed  \n",
       "0              23701842  \n",
       "1              25500446  "
      ]
     },
     "execution_count": 18,
     "metadata": {},
     "output_type": "execute_result"
    }
   ],
   "source": [
    "\n",
    "query = \"\"\"select case when l.cancellation_year is not null then 'Cancelled' else 'Active' end as Status,\n",
    "count(distinct l.loyalty_number) as num_customers,round(avg(f.points_redeemed),0) as avg_points_redeemed_per_customer,\n",
    "sum(f.points_redeemed) as Points_Redeemed \n",
    "from customer_flight_activity as f join customer_loyalty_history as l \n",
    "on l.loyalty_number = f.loyalty_number group by Status;\"\"\"\n",
    "cur.execute(query)\n",
    "data = cur.fetchall()\n",
    "df = pd.DataFrame(data,columns = [\"Customer Loyalty Tier Status\",\"Number Of Customers\",\"Average Points Redeemed\",\"Total Points Redeemed\"])\n",
    "df"
   ]
  },
  {
   "cell_type": "markdown",
   "id": "208b3b56-64fb-4db7-91c5-3e213f75d4ec",
   "metadata": {},
   "source": [
    "## Cancelled customers redeemed more total points (25.5M) than active customers (23.7M), despite lower average redemption."
   ]
  },
  {
   "cell_type": "code",
   "execution_count": null,
   "id": "c99f223d-39b8-4912-9f85-ad83d2dc1f5d",
   "metadata": {},
   "outputs": [],
   "source": []
  }
 ],
 "metadata": {
  "kernelspec": {
   "display_name": "Python [conda env:base] *",
   "language": "python",
   "name": "conda-base-py"
  },
  "language_info": {
   "codemirror_mode": {
    "name": "ipython",
    "version": 3
   },
   "file_extension": ".py",
   "mimetype": "text/x-python",
   "name": "python",
   "nbconvert_exporter": "python",
   "pygments_lexer": "ipython3",
   "version": "3.12.7"
  }
 },
 "nbformat": 4,
 "nbformat_minor": 5
}
